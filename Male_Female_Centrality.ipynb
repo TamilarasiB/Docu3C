{
  "cells": [
    {
      "cell_type": "code",
      "execution_count": 142,
      "id": "bc008f8b",
      "metadata": {
        "id": "bc008f8b"
      },
      "outputs": [],
      "source": [
        "import numpy as np\n",
        "import pandas as pd"
      ]
    },
    {
      "cell_type": "code",
      "execution_count": 143,
      "id": "485ce846",
      "metadata": {
        "id": "485ce846"
      },
      "outputs": [],
      "source": [
        "dm= pd.read_csv('/content/male_mentions_centrality.csv')"
      ]
    },
    {
      "cell_type": "code",
      "execution_count": 144,
      "id": "91f4fa87",
      "metadata": {
        "id": "91f4fa87"
      },
      "outputs": [],
      "source": [
        "df= pd.read_csv('/content/female_mentions_centrality.csv')"
      ]
    },
    {
      "cell_type": "code",
      "execution_count": 145,
      "id": "c73fa2f5",
      "metadata": {
        "id": "c73fa2f5"
      },
      "outputs": [],
      "source": [
        "df = df.drop('MOVIE NAME',axis=1)\n",
        "dm = dm.drop('MOVIE NAME',axis=1)"
      ]
    },
    {
      "cell_type": "code",
      "source": [
        "df = df.drop('cast',axis=1)\n",
        "dm = dm.drop('cast',axis=1)"
      ],
      "metadata": {
        "id": "JekXm9BGNt0-"
      },
      "id": "JekXm9BGNt0-",
      "execution_count": 146,
      "outputs": []
    },
    {
      "cell_type": "code",
      "source": [
        "df.head(2)"
      ],
      "metadata": {
        "colab": {
          "base_uri": "https://localhost:8080/",
          "height": 112
        },
        "id": "49EELWGnFdj0",
        "outputId": "7fd6a6de-2e01-4b4c-dffb-d1c564aa28e5"
      },
      "id": "49EELWGnFdj0",
      "execution_count": 147,
      "outputs": [
        {
          "output_type": "execute_result",
          "data": {
            "text/plain": [
              "   mentions  total centrality  count  average centrality\n",
              "0       2.0        222.500000   12.0           18.541667\n",
              "1      11.0        868.166667  131.0            6.627226"
            ],
            "text/html": [
              "\n",
              "  <div id=\"df-ac299c5c-f9b8-4817-9fad-7391526a1b39\" class=\"colab-df-container\">\n",
              "    <div>\n",
              "<style scoped>\n",
              "    .dataframe tbody tr th:only-of-type {\n",
              "        vertical-align: middle;\n",
              "    }\n",
              "\n",
              "    .dataframe tbody tr th {\n",
              "        vertical-align: top;\n",
              "    }\n",
              "\n",
              "    .dataframe thead th {\n",
              "        text-align: right;\n",
              "    }\n",
              "</style>\n",
              "<table border=\"1\" class=\"dataframe\">\n",
              "  <thead>\n",
              "    <tr style=\"text-align: right;\">\n",
              "      <th></th>\n",
              "      <th>mentions</th>\n",
              "      <th>total centrality</th>\n",
              "      <th>count</th>\n",
              "      <th>average centrality</th>\n",
              "    </tr>\n",
              "  </thead>\n",
              "  <tbody>\n",
              "    <tr>\n",
              "      <th>0</th>\n",
              "      <td>2.0</td>\n",
              "      <td>222.500000</td>\n",
              "      <td>12.0</td>\n",
              "      <td>18.541667</td>\n",
              "    </tr>\n",
              "    <tr>\n",
              "      <th>1</th>\n",
              "      <td>11.0</td>\n",
              "      <td>868.166667</td>\n",
              "      <td>131.0</td>\n",
              "      <td>6.627226</td>\n",
              "    </tr>\n",
              "  </tbody>\n",
              "</table>\n",
              "</div>\n",
              "    <div class=\"colab-df-buttons\">\n",
              "\n",
              "  <div class=\"colab-df-container\">\n",
              "    <button class=\"colab-df-convert\" onclick=\"convertToInteractive('df-ac299c5c-f9b8-4817-9fad-7391526a1b39')\"\n",
              "            title=\"Convert this dataframe to an interactive table.\"\n",
              "            style=\"display:none;\">\n",
              "\n",
              "  <svg xmlns=\"http://www.w3.org/2000/svg\" height=\"24px\" viewBox=\"0 -960 960 960\">\n",
              "    <path d=\"M120-120v-720h720v720H120Zm60-500h600v-160H180v160Zm220 220h160v-160H400v160Zm0 220h160v-160H400v160ZM180-400h160v-160H180v160Zm440 0h160v-160H620v160ZM180-180h160v-160H180v160Zm440 0h160v-160H620v160Z\"/>\n",
              "  </svg>\n",
              "    </button>\n",
              "\n",
              "  <style>\n",
              "    .colab-df-container {\n",
              "      display:flex;\n",
              "      gap: 12px;\n",
              "    }\n",
              "\n",
              "    .colab-df-convert {\n",
              "      background-color: #E8F0FE;\n",
              "      border: none;\n",
              "      border-radius: 50%;\n",
              "      cursor: pointer;\n",
              "      display: none;\n",
              "      fill: #1967D2;\n",
              "      height: 32px;\n",
              "      padding: 0 0 0 0;\n",
              "      width: 32px;\n",
              "    }\n",
              "\n",
              "    .colab-df-convert:hover {\n",
              "      background-color: #E2EBFA;\n",
              "      box-shadow: 0px 1px 2px rgba(60, 64, 67, 0.3), 0px 1px 3px 1px rgba(60, 64, 67, 0.15);\n",
              "      fill: #174EA6;\n",
              "    }\n",
              "\n",
              "    .colab-df-buttons div {\n",
              "      margin-bottom: 4px;\n",
              "    }\n",
              "\n",
              "    [theme=dark] .colab-df-convert {\n",
              "      background-color: #3B4455;\n",
              "      fill: #D2E3FC;\n",
              "    }\n",
              "\n",
              "    [theme=dark] .colab-df-convert:hover {\n",
              "      background-color: #434B5C;\n",
              "      box-shadow: 0px 1px 3px 1px rgba(0, 0, 0, 0.15);\n",
              "      filter: drop-shadow(0px 1px 2px rgba(0, 0, 0, 0.3));\n",
              "      fill: #FFFFFF;\n",
              "    }\n",
              "  </style>\n",
              "\n",
              "    <script>\n",
              "      const buttonEl =\n",
              "        document.querySelector('#df-ac299c5c-f9b8-4817-9fad-7391526a1b39 button.colab-df-convert');\n",
              "      buttonEl.style.display =\n",
              "        google.colab.kernel.accessAllowed ? 'block' : 'none';\n",
              "\n",
              "      async function convertToInteractive(key) {\n",
              "        const element = document.querySelector('#df-ac299c5c-f9b8-4817-9fad-7391526a1b39');\n",
              "        const dataTable =\n",
              "          await google.colab.kernel.invokeFunction('convertToInteractive',\n",
              "                                                    [key], {});\n",
              "        if (!dataTable) return;\n",
              "\n",
              "        const docLinkHtml = 'Like what you see? Visit the ' +\n",
              "          '<a target=\"_blank\" href=https://colab.research.google.com/notebooks/data_table.ipynb>data table notebook</a>'\n",
              "          + ' to learn more about interactive tables.';\n",
              "        element.innerHTML = '';\n",
              "        dataTable['output_type'] = 'display_data';\n",
              "        await google.colab.output.renderOutput(dataTable, element);\n",
              "        const docLink = document.createElement('div');\n",
              "        docLink.innerHTML = docLinkHtml;\n",
              "        element.appendChild(docLink);\n",
              "      }\n",
              "    </script>\n",
              "  </div>\n",
              "\n",
              "\n",
              "<div id=\"df-5e2119d6-5949-48b0-a796-c3cc355acb86\">\n",
              "  <button class=\"colab-df-quickchart\" onclick=\"quickchart('df-5e2119d6-5949-48b0-a796-c3cc355acb86')\"\n",
              "            title=\"Suggest charts\"\n",
              "            style=\"display:none;\">\n",
              "\n",
              "<svg xmlns=\"http://www.w3.org/2000/svg\" height=\"24px\"viewBox=\"0 0 24 24\"\n",
              "     width=\"24px\">\n",
              "    <g>\n",
              "        <path d=\"M19 3H5c-1.1 0-2 .9-2 2v14c0 1.1.9 2 2 2h14c1.1 0 2-.9 2-2V5c0-1.1-.9-2-2-2zM9 17H7v-7h2v7zm4 0h-2V7h2v10zm4 0h-2v-4h2v4z\"/>\n",
              "    </g>\n",
              "</svg>\n",
              "  </button>\n",
              "\n",
              "<style>\n",
              "  .colab-df-quickchart {\n",
              "      --bg-color: #E8F0FE;\n",
              "      --fill-color: #1967D2;\n",
              "      --hover-bg-color: #E2EBFA;\n",
              "      --hover-fill-color: #174EA6;\n",
              "      --disabled-fill-color: #AAA;\n",
              "      --disabled-bg-color: #DDD;\n",
              "  }\n",
              "\n",
              "  [theme=dark] .colab-df-quickchart {\n",
              "      --bg-color: #3B4455;\n",
              "      --fill-color: #D2E3FC;\n",
              "      --hover-bg-color: #434B5C;\n",
              "      --hover-fill-color: #FFFFFF;\n",
              "      --disabled-bg-color: #3B4455;\n",
              "      --disabled-fill-color: #666;\n",
              "  }\n",
              "\n",
              "  .colab-df-quickchart {\n",
              "    background-color: var(--bg-color);\n",
              "    border: none;\n",
              "    border-radius: 50%;\n",
              "    cursor: pointer;\n",
              "    display: none;\n",
              "    fill: var(--fill-color);\n",
              "    height: 32px;\n",
              "    padding: 0;\n",
              "    width: 32px;\n",
              "  }\n",
              "\n",
              "  .colab-df-quickchart:hover {\n",
              "    background-color: var(--hover-bg-color);\n",
              "    box-shadow: 0 1px 2px rgba(60, 64, 67, 0.3), 0 1px 3px 1px rgba(60, 64, 67, 0.15);\n",
              "    fill: var(--button-hover-fill-color);\n",
              "  }\n",
              "\n",
              "  .colab-df-quickchart-complete:disabled,\n",
              "  .colab-df-quickchart-complete:disabled:hover {\n",
              "    background-color: var(--disabled-bg-color);\n",
              "    fill: var(--disabled-fill-color);\n",
              "    box-shadow: none;\n",
              "  }\n",
              "\n",
              "  .colab-df-spinner {\n",
              "    border: 2px solid var(--fill-color);\n",
              "    border-color: transparent;\n",
              "    border-bottom-color: var(--fill-color);\n",
              "    animation:\n",
              "      spin 1s steps(1) infinite;\n",
              "  }\n",
              "\n",
              "  @keyframes spin {\n",
              "    0% {\n",
              "      border-color: transparent;\n",
              "      border-bottom-color: var(--fill-color);\n",
              "      border-left-color: var(--fill-color);\n",
              "    }\n",
              "    20% {\n",
              "      border-color: transparent;\n",
              "      border-left-color: var(--fill-color);\n",
              "      border-top-color: var(--fill-color);\n",
              "    }\n",
              "    30% {\n",
              "      border-color: transparent;\n",
              "      border-left-color: var(--fill-color);\n",
              "      border-top-color: var(--fill-color);\n",
              "      border-right-color: var(--fill-color);\n",
              "    }\n",
              "    40% {\n",
              "      border-color: transparent;\n",
              "      border-right-color: var(--fill-color);\n",
              "      border-top-color: var(--fill-color);\n",
              "    }\n",
              "    60% {\n",
              "      border-color: transparent;\n",
              "      border-right-color: var(--fill-color);\n",
              "    }\n",
              "    80% {\n",
              "      border-color: transparent;\n",
              "      border-right-color: var(--fill-color);\n",
              "      border-bottom-color: var(--fill-color);\n",
              "    }\n",
              "    90% {\n",
              "      border-color: transparent;\n",
              "      border-bottom-color: var(--fill-color);\n",
              "    }\n",
              "  }\n",
              "</style>\n",
              "\n",
              "  <script>\n",
              "    async function quickchart(key) {\n",
              "      const quickchartButtonEl =\n",
              "        document.querySelector('#' + key + ' button');\n",
              "      quickchartButtonEl.disabled = true;  // To prevent multiple clicks.\n",
              "      quickchartButtonEl.classList.add('colab-df-spinner');\n",
              "      try {\n",
              "        const charts = await google.colab.kernel.invokeFunction(\n",
              "            'suggestCharts', [key], {});\n",
              "      } catch (error) {\n",
              "        console.error('Error during call to suggestCharts:', error);\n",
              "      }\n",
              "      quickchartButtonEl.classList.remove('colab-df-spinner');\n",
              "      quickchartButtonEl.classList.add('colab-df-quickchart-complete');\n",
              "    }\n",
              "    (() => {\n",
              "      let quickchartButtonEl =\n",
              "        document.querySelector('#df-5e2119d6-5949-48b0-a796-c3cc355acb86 button');\n",
              "      quickchartButtonEl.style.display =\n",
              "        google.colab.kernel.accessAllowed ? 'block' : 'none';\n",
              "    })();\n",
              "  </script>\n",
              "</div>\n",
              "    </div>\n",
              "  </div>\n"
            ],
            "application/vnd.google.colaboratory.intrinsic+json": {
              "type": "dataframe",
              "variable_name": "df",
              "summary": "{\n  \"name\": \"df\",\n  \"rows\": 5048,\n  \"fields\": [\n    {\n      \"column\": \"mentions\",\n      \"properties\": {\n        \"dtype\": \"number\",\n        \"std\": 10.352711747463331,\n        \"min\": 0.0,\n        \"max\": 128.0,\n        \"num_unique_values\": 76,\n        \"samples\": [\n          6.0,\n          31.0,\n          18.0\n        ],\n        \"semantic_type\": \"\",\n        \"description\": \"\"\n      }\n    },\n    {\n      \"column\": \"total centrality\",\n      \"properties\": {\n        \"dtype\": \"number\",\n        \"std\": 882.5652987569252,\n        \"min\": 0.0,\n        \"max\": 20080.26991,\n        \"num_unique_values\": 2415,\n        \"samples\": [\n          702.1666667,\n          112.0,\n          117.1666667\n        ],\n        \"semantic_type\": \"\",\n        \"description\": \"\"\n      }\n    },\n    {\n      \"column\": \"count\",\n      \"properties\": {\n        \"dtype\": \"number\",\n        \"std\": 92.71635258121796,\n        \"min\": 0.0,\n        \"max\": 1012.0,\n        \"num_unique_values\": 418,\n        \"samples\": [\n          158.0,\n          270.0,\n          370.0\n        ],\n        \"semantic_type\": \"\",\n        \"description\": \"\"\n      }\n    },\n    {\n      \"column\": \"average centrality\",\n      \"properties\": {\n        \"dtype\": \"number\",\n        \"std\": 6.5712310713099535,\n        \"min\": 0.0,\n        \"max\": 91.60098039,\n        \"num_unique_values\": 3822,\n        \"samples\": [\n          6.263888889,\n          3.994285714,\n          3.182539683\n        ],\n        \"semantic_type\": \"\",\n        \"description\": \"\"\n      }\n    }\n  ]\n}"
            }
          },
          "metadata": {},
          "execution_count": 147
        }
      ]
    },
    {
      "cell_type": "code",
      "source": [
        "dm.head(2)"
      ],
      "metadata": {
        "colab": {
          "base_uri": "https://localhost:8080/",
          "height": 112
        },
        "id": "Yc5kTnS0Fhiz",
        "outputId": "3269ce09-27a3-4b4d-a9de-0645389ecdba"
      },
      "id": "Yc5kTnS0Fhiz",
      "execution_count": 148,
      "outputs": [
        {
          "output_type": "execute_result",
          "data": {
            "text/plain": [
              "   mentions  total centrality  count  average centrality\n",
              "0      13.0            9219.2  131.0           70.375573\n",
              "1      11.0              29.0   59.0            0.491525"
            ],
            "text/html": [
              "\n",
              "  <div id=\"df-47b80a4e-604d-4635-9aa2-f994ee1b7a9d\" class=\"colab-df-container\">\n",
              "    <div>\n",
              "<style scoped>\n",
              "    .dataframe tbody tr th:only-of-type {\n",
              "        vertical-align: middle;\n",
              "    }\n",
              "\n",
              "    .dataframe tbody tr th {\n",
              "        vertical-align: top;\n",
              "    }\n",
              "\n",
              "    .dataframe thead th {\n",
              "        text-align: right;\n",
              "    }\n",
              "</style>\n",
              "<table border=\"1\" class=\"dataframe\">\n",
              "  <thead>\n",
              "    <tr style=\"text-align: right;\">\n",
              "      <th></th>\n",
              "      <th>mentions</th>\n",
              "      <th>total centrality</th>\n",
              "      <th>count</th>\n",
              "      <th>average centrality</th>\n",
              "    </tr>\n",
              "  </thead>\n",
              "  <tbody>\n",
              "    <tr>\n",
              "      <th>0</th>\n",
              "      <td>13.0</td>\n",
              "      <td>9219.2</td>\n",
              "      <td>131.0</td>\n",
              "      <td>70.375573</td>\n",
              "    </tr>\n",
              "    <tr>\n",
              "      <th>1</th>\n",
              "      <td>11.0</td>\n",
              "      <td>29.0</td>\n",
              "      <td>59.0</td>\n",
              "      <td>0.491525</td>\n",
              "    </tr>\n",
              "  </tbody>\n",
              "</table>\n",
              "</div>\n",
              "    <div class=\"colab-df-buttons\">\n",
              "\n",
              "  <div class=\"colab-df-container\">\n",
              "    <button class=\"colab-df-convert\" onclick=\"convertToInteractive('df-47b80a4e-604d-4635-9aa2-f994ee1b7a9d')\"\n",
              "            title=\"Convert this dataframe to an interactive table.\"\n",
              "            style=\"display:none;\">\n",
              "\n",
              "  <svg xmlns=\"http://www.w3.org/2000/svg\" height=\"24px\" viewBox=\"0 -960 960 960\">\n",
              "    <path d=\"M120-120v-720h720v720H120Zm60-500h600v-160H180v160Zm220 220h160v-160H400v160Zm0 220h160v-160H400v160ZM180-400h160v-160H180v160Zm440 0h160v-160H620v160ZM180-180h160v-160H180v160Zm440 0h160v-160H620v160Z\"/>\n",
              "  </svg>\n",
              "    </button>\n",
              "\n",
              "  <style>\n",
              "    .colab-df-container {\n",
              "      display:flex;\n",
              "      gap: 12px;\n",
              "    }\n",
              "\n",
              "    .colab-df-convert {\n",
              "      background-color: #E8F0FE;\n",
              "      border: none;\n",
              "      border-radius: 50%;\n",
              "      cursor: pointer;\n",
              "      display: none;\n",
              "      fill: #1967D2;\n",
              "      height: 32px;\n",
              "      padding: 0 0 0 0;\n",
              "      width: 32px;\n",
              "    }\n",
              "\n",
              "    .colab-df-convert:hover {\n",
              "      background-color: #E2EBFA;\n",
              "      box-shadow: 0px 1px 2px rgba(60, 64, 67, 0.3), 0px 1px 3px 1px rgba(60, 64, 67, 0.15);\n",
              "      fill: #174EA6;\n",
              "    }\n",
              "\n",
              "    .colab-df-buttons div {\n",
              "      margin-bottom: 4px;\n",
              "    }\n",
              "\n",
              "    [theme=dark] .colab-df-convert {\n",
              "      background-color: #3B4455;\n",
              "      fill: #D2E3FC;\n",
              "    }\n",
              "\n",
              "    [theme=dark] .colab-df-convert:hover {\n",
              "      background-color: #434B5C;\n",
              "      box-shadow: 0px 1px 3px 1px rgba(0, 0, 0, 0.15);\n",
              "      filter: drop-shadow(0px 1px 2px rgba(0, 0, 0, 0.3));\n",
              "      fill: #FFFFFF;\n",
              "    }\n",
              "  </style>\n",
              "\n",
              "    <script>\n",
              "      const buttonEl =\n",
              "        document.querySelector('#df-47b80a4e-604d-4635-9aa2-f994ee1b7a9d button.colab-df-convert');\n",
              "      buttonEl.style.display =\n",
              "        google.colab.kernel.accessAllowed ? 'block' : 'none';\n",
              "\n",
              "      async function convertToInteractive(key) {\n",
              "        const element = document.querySelector('#df-47b80a4e-604d-4635-9aa2-f994ee1b7a9d');\n",
              "        const dataTable =\n",
              "          await google.colab.kernel.invokeFunction('convertToInteractive',\n",
              "                                                    [key], {});\n",
              "        if (!dataTable) return;\n",
              "\n",
              "        const docLinkHtml = 'Like what you see? Visit the ' +\n",
              "          '<a target=\"_blank\" href=https://colab.research.google.com/notebooks/data_table.ipynb>data table notebook</a>'\n",
              "          + ' to learn more about interactive tables.';\n",
              "        element.innerHTML = '';\n",
              "        dataTable['output_type'] = 'display_data';\n",
              "        await google.colab.output.renderOutput(dataTable, element);\n",
              "        const docLink = document.createElement('div');\n",
              "        docLink.innerHTML = docLinkHtml;\n",
              "        element.appendChild(docLink);\n",
              "      }\n",
              "    </script>\n",
              "  </div>\n",
              "\n",
              "\n",
              "<div id=\"df-497fc8a0-8a9a-48c7-adef-bad65a6d4c88\">\n",
              "  <button class=\"colab-df-quickchart\" onclick=\"quickchart('df-497fc8a0-8a9a-48c7-adef-bad65a6d4c88')\"\n",
              "            title=\"Suggest charts\"\n",
              "            style=\"display:none;\">\n",
              "\n",
              "<svg xmlns=\"http://www.w3.org/2000/svg\" height=\"24px\"viewBox=\"0 0 24 24\"\n",
              "     width=\"24px\">\n",
              "    <g>\n",
              "        <path d=\"M19 3H5c-1.1 0-2 .9-2 2v14c0 1.1.9 2 2 2h14c1.1 0 2-.9 2-2V5c0-1.1-.9-2-2-2zM9 17H7v-7h2v7zm4 0h-2V7h2v10zm4 0h-2v-4h2v4z\"/>\n",
              "    </g>\n",
              "</svg>\n",
              "  </button>\n",
              "\n",
              "<style>\n",
              "  .colab-df-quickchart {\n",
              "      --bg-color: #E8F0FE;\n",
              "      --fill-color: #1967D2;\n",
              "      --hover-bg-color: #E2EBFA;\n",
              "      --hover-fill-color: #174EA6;\n",
              "      --disabled-fill-color: #AAA;\n",
              "      --disabled-bg-color: #DDD;\n",
              "  }\n",
              "\n",
              "  [theme=dark] .colab-df-quickchart {\n",
              "      --bg-color: #3B4455;\n",
              "      --fill-color: #D2E3FC;\n",
              "      --hover-bg-color: #434B5C;\n",
              "      --hover-fill-color: #FFFFFF;\n",
              "      --disabled-bg-color: #3B4455;\n",
              "      --disabled-fill-color: #666;\n",
              "  }\n",
              "\n",
              "  .colab-df-quickchart {\n",
              "    background-color: var(--bg-color);\n",
              "    border: none;\n",
              "    border-radius: 50%;\n",
              "    cursor: pointer;\n",
              "    display: none;\n",
              "    fill: var(--fill-color);\n",
              "    height: 32px;\n",
              "    padding: 0;\n",
              "    width: 32px;\n",
              "  }\n",
              "\n",
              "  .colab-df-quickchart:hover {\n",
              "    background-color: var(--hover-bg-color);\n",
              "    box-shadow: 0 1px 2px rgba(60, 64, 67, 0.3), 0 1px 3px 1px rgba(60, 64, 67, 0.15);\n",
              "    fill: var(--button-hover-fill-color);\n",
              "  }\n",
              "\n",
              "  .colab-df-quickchart-complete:disabled,\n",
              "  .colab-df-quickchart-complete:disabled:hover {\n",
              "    background-color: var(--disabled-bg-color);\n",
              "    fill: var(--disabled-fill-color);\n",
              "    box-shadow: none;\n",
              "  }\n",
              "\n",
              "  .colab-df-spinner {\n",
              "    border: 2px solid var(--fill-color);\n",
              "    border-color: transparent;\n",
              "    border-bottom-color: var(--fill-color);\n",
              "    animation:\n",
              "      spin 1s steps(1) infinite;\n",
              "  }\n",
              "\n",
              "  @keyframes spin {\n",
              "    0% {\n",
              "      border-color: transparent;\n",
              "      border-bottom-color: var(--fill-color);\n",
              "      border-left-color: var(--fill-color);\n",
              "    }\n",
              "    20% {\n",
              "      border-color: transparent;\n",
              "      border-left-color: var(--fill-color);\n",
              "      border-top-color: var(--fill-color);\n",
              "    }\n",
              "    30% {\n",
              "      border-color: transparent;\n",
              "      border-left-color: var(--fill-color);\n",
              "      border-top-color: var(--fill-color);\n",
              "      border-right-color: var(--fill-color);\n",
              "    }\n",
              "    40% {\n",
              "      border-color: transparent;\n",
              "      border-right-color: var(--fill-color);\n",
              "      border-top-color: var(--fill-color);\n",
              "    }\n",
              "    60% {\n",
              "      border-color: transparent;\n",
              "      border-right-color: var(--fill-color);\n",
              "    }\n",
              "    80% {\n",
              "      border-color: transparent;\n",
              "      border-right-color: var(--fill-color);\n",
              "      border-bottom-color: var(--fill-color);\n",
              "    }\n",
              "    90% {\n",
              "      border-color: transparent;\n",
              "      border-bottom-color: var(--fill-color);\n",
              "    }\n",
              "  }\n",
              "</style>\n",
              "\n",
              "  <script>\n",
              "    async function quickchart(key) {\n",
              "      const quickchartButtonEl =\n",
              "        document.querySelector('#' + key + ' button');\n",
              "      quickchartButtonEl.disabled = true;  // To prevent multiple clicks.\n",
              "      quickchartButtonEl.classList.add('colab-df-spinner');\n",
              "      try {\n",
              "        const charts = await google.colab.kernel.invokeFunction(\n",
              "            'suggestCharts', [key], {});\n",
              "      } catch (error) {\n",
              "        console.error('Error during call to suggestCharts:', error);\n",
              "      }\n",
              "      quickchartButtonEl.classList.remove('colab-df-spinner');\n",
              "      quickchartButtonEl.classList.add('colab-df-quickchart-complete');\n",
              "    }\n",
              "    (() => {\n",
              "      let quickchartButtonEl =\n",
              "        document.querySelector('#df-497fc8a0-8a9a-48c7-adef-bad65a6d4c88 button');\n",
              "      quickchartButtonEl.style.display =\n",
              "        google.colab.kernel.accessAllowed ? 'block' : 'none';\n",
              "    })();\n",
              "  </script>\n",
              "</div>\n",
              "    </div>\n",
              "  </div>\n"
            ],
            "application/vnd.google.colaboratory.intrinsic+json": {
              "type": "dataframe",
              "variable_name": "dm",
              "summary": "{\n  \"name\": \"dm\",\n  \"rows\": 9353,\n  \"fields\": [\n    {\n      \"column\": \"mentions\",\n      \"properties\": {\n        \"dtype\": \"number\",\n        \"std\": 10.799918546553485,\n        \"min\": 0.0,\n        \"max\": 120.0,\n        \"num_unique_values\": 92,\n        \"samples\": [\n          43.0,\n          32.0,\n          49.0\n        ],\n        \"semantic_type\": \"\",\n        \"description\": \"\"\n      }\n    },\n    {\n      \"column\": \"total centrality\",\n      \"properties\": {\n        \"dtype\": \"number\",\n        \"std\": 2926.885728979045,\n        \"min\": 0.0,\n        \"max\": 260924.6114,\n        \"num_unique_values\": 3813,\n        \"samples\": [\n          173.8333333,\n          61.16666667,\n          3311.333333\n        ],\n        \"semantic_type\": \"\",\n        \"description\": \"\"\n      }\n    },\n    {\n      \"column\": \"count\",\n      \"properties\": {\n        \"dtype\": \"number\",\n        \"std\": 106.71803602979267,\n        \"min\": 0.0,\n        \"max\": 1702.0,\n        \"num_unique_values\": 532,\n        \"samples\": [\n          7.0,\n          1159.0,\n          110.0\n        ],\n        \"semantic_type\": \"\",\n        \"description\": \"\"\n      }\n    },\n    {\n      \"column\": \"average centrality\",\n      \"properties\": {\n        \"dtype\": \"number\",\n        \"std\": 18.233392217605736,\n        \"min\": 0.0,\n        \"max\": 1562.422823,\n        \"num_unique_values\": 6500,\n        \"samples\": [\n          3.103975535,\n          2.310810811,\n          5.519768856\n        ],\n        \"semantic_type\": \"\",\n        \"description\": \"\"\n      }\n    }\n  ]\n}"
            }
          },
          "metadata": {},
          "execution_count": 148
        }
      ]
    },
    {
      "cell_type": "code",
      "execution_count": 149,
      "id": "07bac3a8",
      "metadata": {
        "colab": {
          "base_uri": "https://localhost:8080/"
        },
        "id": "07bac3a8",
        "outputId": "8f12598b-b337-48d0-ae4d-849d0d7fbb7a"
      },
      "outputs": [
        {
          "output_type": "stream",
          "name": "stdout",
          "text": [
            "<class 'pandas.core.frame.DataFrame'>\n",
            "RangeIndex: 5048 entries, 0 to 5047\n",
            "Data columns (total 4 columns):\n",
            " #   Column              Non-Null Count  Dtype  \n",
            "---  ------              --------------  -----  \n",
            " 0   mentions            5043 non-null   float64\n",
            " 1   total centrality    5043 non-null   float64\n",
            " 2   count               5043 non-null   float64\n",
            " 3   average centrality  5043 non-null   float64\n",
            "dtypes: float64(4)\n",
            "memory usage: 157.9 KB\n"
          ]
        }
      ],
      "source": [
        "df.info()"
      ]
    },
    {
      "cell_type": "code",
      "execution_count": 150,
      "id": "0e3b18a2",
      "metadata": {
        "colab": {
          "base_uri": "https://localhost:8080/"
        },
        "id": "0e3b18a2",
        "outputId": "9a63a903-e7d8-4362-bbe9-fd89099e17dc"
      },
      "outputs": [
        {
          "output_type": "stream",
          "name": "stdout",
          "text": [
            "<class 'pandas.core.frame.DataFrame'>\n",
            "RangeIndex: 9353 entries, 0 to 9352\n",
            "Data columns (total 4 columns):\n",
            " #   Column              Non-Null Count  Dtype  \n",
            "---  ------              --------------  -----  \n",
            " 0   mentions            9348 non-null   float64\n",
            " 1   total centrality    9348 non-null   float64\n",
            " 2   count               9348 non-null   float64\n",
            " 3   average centrality  9348 non-null   float64\n",
            "dtypes: float64(4)\n",
            "memory usage: 292.4 KB\n"
          ]
        }
      ],
      "source": [
        "dm.info()"
      ]
    },
    {
      "cell_type": "code",
      "execution_count": 151,
      "id": "a8f837e9",
      "metadata": {
        "id": "a8f837e9"
      },
      "outputs": [],
      "source": [
        "import matplotlib.pyplot as plt"
      ]
    },
    {
      "cell_type": "code",
      "execution_count": 152,
      "id": "f1ebf3ad",
      "metadata": {
        "colab": {
          "base_uri": "https://localhost:8080/",
          "height": 447
        },
        "id": "f1ebf3ad",
        "outputId": "91a63ac7-d857-452e-c8c7-fe05d15679de"
      },
      "outputs": [
        {
          "output_type": "execute_result",
          "data": {
            "text/plain": [
              "<Axes: ylabel='Frequency'>"
            ]
          },
          "metadata": {},
          "execution_count": 152
        },
        {
          "output_type": "display_data",
          "data": {
            "text/plain": [
              "<Figure size 640x480 with 1 Axes>"
            ],
            "image/png": "[encoded data removed]"
          },
          "metadata": {}
        }
      ],
      "source": [
        "df.plot(kind='hist', x='count')"
      ]
    },
    {
      "cell_type": "code",
      "execution_count": 153,
      "id": "c6daba1c",
      "metadata": {
        "colab": {
          "base_uri": "https://localhost:8080/",
          "height": 447
        },
        "id": "c6daba1c",
        "outputId": "15bda6a1-12a2-4794-aab4-2efde202b30c"
      },
      "outputs": [
        {
          "output_type": "execute_result",
          "data": {
            "text/plain": [
              "<Axes: ylabel='Frequency'>"
            ]
          },
          "metadata": {},
          "execution_count": 153
        },
        {
          "output_type": "display_data",
          "data": {
            "text/plain": [
              "<Figure size 640x480 with 1 Axes>"
            ],
            "image/png": "[encoded data removed]"
          },
          "metadata": {}
        }
      ],
      "source": [
        "dm.plot(kind='hist',x='count')"
      ]
    },
    {
      "cell_type": "code",
      "execution_count": 156,
      "id": "0d4e6f2d",
      "metadata": {
        "colab": {
          "base_uri": "https://localhost:8080/",
          "height": 458
        },
        "id": "0d4e6f2d",
        "outputId": "8db79b26-d1da-4c9c-de26-4bae62972330"
      },
      "outputs": [
        {
          "output_type": "execute_result",
          "data": {
            "text/plain": [
              "<matplotlib.legend.Legend at 0x7f6e2955c370>"
            ]
          },
          "metadata": {},
          "execution_count": 156
        },
        {
          "output_type": "display_data",
          "data": {
            "text/plain": [
              "<Figure size 640x480 with 2 Axes>"
            ],
            "image/png": "[encoded data removed]"
          },
          "metadata": {}
        }
      ],
      "source": [
        "fig, ax = plt.subplots()\n",
        "ax2 = ax.twinx()\n",
        "df.plot(x=\"mentions\", y=[\"count\"], ax=ax)\n",
        "dm.plot(x=\"mentions\", y=[\"count\"], ax=ax2,ls= \"--\",c='green')\n",
        "fig.legend(loc=\"upper right\", bbox_to_anchor=(0,0), bbox_transform=ax.transAxes)"
      ]
    },
    {
      "cell_type": "markdown",
      "id": "00ac593d",
      "metadata": {
        "id": "00ac593d"
      },
      "source": [
        "# data cleaning"
      ]
    },
    {
      "cell_type": "code",
      "execution_count": 157,
      "id": "daa80416",
      "metadata": {
        "scrolled": true,
        "colab": {
          "base_uri": "https://localhost:8080/"
        },
        "id": "daa80416",
        "outputId": "2d52b622-ad71-4ecf-daa7-3920fa039d7f"
      },
      "outputs": [
        {
          "output_type": "execute_result",
          "data": {
            "text/plain": [
              "mentions              5\n",
              "total centrality      5\n",
              "count                 5\n",
              "average centrality    5\n",
              "dtype: int64"
            ]
          },
          "metadata": {},
          "execution_count": 157
        }
      ],
      "source": [
        "df.isna().sum()"
      ]
    },
    {
      "cell_type": "code",
      "execution_count": 158,
      "id": "0775142f",
      "metadata": {
        "colab": {
          "base_uri": "https://localhost:8080/"
        },
        "id": "0775142f",
        "outputId": "a982c035-a0be-441b-f7e0-1d297460f748"
      },
      "outputs": [
        {
          "output_type": "execute_result",
          "data": {
            "text/plain": [
              "45.0"
            ]
          },
          "metadata": {},
          "execution_count": 158
        }
      ],
      "source": [
        "meanv=df['count'].median()\n",
        "meanv"
      ]
    },
    {
      "cell_type": "code",
      "execution_count": 159,
      "id": "3b8f2f8f",
      "metadata": {
        "colab": {
          "base_uri": "https://localhost:8080/"
        },
        "id": "3b8f2f8f",
        "outputId": "beaa5d42-4da1-4083-d88f-a518cac8724e"
      },
      "outputs": [
        {
          "output_type": "execute_result",
          "data": {
            "text/plain": [
              "mentions              5\n",
              "total centrality      5\n",
              "count                 0\n",
              "average centrality    5\n",
              "dtype: int64"
            ]
          },
          "metadata": {},
          "execution_count": 159
        }
      ],
      "source": [
        "df['count'].fillna(value=meanv,inplace=True)\n",
        "df.isna().sum()"
      ]
    },
    {
      "cell_type": "code",
      "execution_count": 161,
      "id": "084c7453",
      "metadata": {
        "colab": {
          "base_uri": "https://localhost:8080/"
        },
        "id": "084c7453",
        "outputId": "7c2ddc1c-1bb2-4797-8a54-bd6a2b08729b"
      },
      "outputs": [
        {
          "output_type": "execute_result",
          "data": {
            "text/plain": [
              "mentions              0\n",
              "total centrality      5\n",
              "count                 0\n",
              "average centrality    5\n",
              "dtype: int64"
            ]
          },
          "metadata": {},
          "execution_count": 161
        }
      ],
      "source": [
        "df['mentions'].fillna(value=df['mentions'].mean(),inplace=True)\n",
        "df.isna().sum()"
      ]
    },
    {
      "cell_type": "code",
      "execution_count": 162,
      "id": "2cd4e282",
      "metadata": {
        "colab": {
          "base_uri": "https://localhost:8080/"
        },
        "id": "2cd4e282",
        "outputId": "3e9e21df-926b-4252-8874-a311bb0aad66"
      },
      "outputs": [
        {
          "output_type": "execute_result",
          "data": {
            "text/plain": [
              "mentions              0\n",
              "total centrality      0\n",
              "count                 0\n",
              "average centrality    5\n",
              "dtype: int64"
            ]
          },
          "metadata": {},
          "execution_count": 162
        }
      ],
      "source": [
        "\n",
        "df['total centrality'].fillna(value=df['total centrality'].mean(),inplace=True)\n",
        "df.isna().sum()"
      ]
    },
    {
      "cell_type": "code",
      "execution_count": 163,
      "id": "9471b79a",
      "metadata": {
        "colab": {
          "base_uri": "https://localhost:8080/"
        },
        "id": "9471b79a",
        "outputId": "d55be600-f7ad-4512-fdf3-5ee983fb6593"
      },
      "outputs": [
        {
          "output_type": "execute_result",
          "data": {
            "text/plain": [
              "mentions              0\n",
              "total centrality      0\n",
              "count                 0\n",
              "average centrality    0\n",
              "dtype: int64"
            ]
          },
          "metadata": {},
          "execution_count": 163
        }
      ],
      "source": [
        "df['average centrality'].fillna(value=df['average centrality'].median(),inplace=True)\n",
        "df.isna().sum()"
      ]
    },
    {
      "cell_type": "code",
      "execution_count": 164,
      "id": "d09243fe",
      "metadata": {
        "scrolled": true,
        "colab": {
          "base_uri": "https://localhost:8080/"
        },
        "id": "d09243fe",
        "outputId": "b0d7297e-c870-48b5-ead0-b9aef3601c32"
      },
      "outputs": [
        {
          "output_type": "execute_result",
          "data": {
            "text/plain": [
              "mentions              0\n",
              "total centrality      0\n",
              "count                 0\n",
              "average centrality    0\n",
              "dtype: int64"
            ]
          },
          "metadata": {},
          "execution_count": 164
        }
      ],
      "source": [
        "df.isna().sum()"
      ]
    },
    {
      "cell_type": "code",
      "execution_count": 165,
      "id": "72390307",
      "metadata": {
        "scrolled": true,
        "id": "72390307"
      },
      "outputs": [],
      "source": [
        "X=df.drop('count',axis=1)\n",
        "y=df['count']\n",
        "\n",
        "from sklearn.model_selection import train_test_split\n",
        "X_train,X_test,Y_train,Y_test=train_test_split(X,y,test_size=0.25,random_state=42)\n"
      ]
    },
    {
      "cell_type": "code",
      "execution_count": 166,
      "id": "9afc123d",
      "metadata": {
        "colab": {
          "base_uri": "https://localhost:8080/",
          "height": 423
        },
        "id": "9afc123d",
        "outputId": "0a242f1e-92f8-43b0-f09b-95703a25a718"
      },
      "outputs": [
        {
          "output_type": "execute_result",
          "data": {
            "text/plain": [
              "      mentions  total centrality  average centrality\n",
              "4288       7.0          0.000000            0.000000\n",
              "1258       1.0        197.000000           16.416667\n",
              "3738       2.0          0.000000            0.000000\n",
              "3515       0.0        853.500000           21.884615\n",
              "1116      15.0        160.000000            1.649485\n",
              "...        ...               ...                 ...\n",
              "4426       0.0        315.000000            4.846154\n",
              "466        7.0        106.000000            1.247059\n",
              "3092       9.0        184.190476            2.361416\n",
              "3772      11.0        264.000000            2.808511\n",
              "860       10.0        221.916667            2.133814\n",
              "\n",
              "[3786 rows x 3 columns]"
            ],
            "text/html": [
              "\n",
              "  <div id=\"df-7cbb9afe-612a-4cd0-b1a9-d867e114a8d1\" class=\"colab-df-container\">\n",
              "    <div>\n",
              "<style scoped>\n",
              "    .dataframe tbody tr th:only-of-type {\n",
              "        vertical-align: middle;\n",
              "    }\n",
              "\n",
              "    .dataframe tbody tr th {\n",
              "        vertical-align: top;\n",
              "    }\n",
              "\n",
              "    .dataframe thead th {\n",
              "        text-align: right;\n",
              "    }\n",
              "</style>\n",
              "<table border=\"1\" class=\"dataframe\">\n",
              "  <thead>\n",
              "    <tr style=\"text-align: right;\">\n",
              "      <th></th>\n",
              "      <th>mentions</th>\n",
              "      <th>total centrality</th>\n",
              "      <th>average centrality</th>\n",
              "    </tr>\n",
              "  </thead>\n",
              "  <tbody>\n",
              "    <tr>\n",
              "      <th>4288</th>\n",
              "      <td>7.0</td>\n",
              "      <td>0.000000</td>\n",
              "      <td>0.000000</td>\n",
              "    </tr>\n",
              "    <tr>\n",
              "      <th>1258</th>\n",
              "      <td>1.0</td>\n",
              "      <td>197.000000</td>\n",
              "      <td>16.416667</td>\n",
              "    </tr>\n",
              "    <tr>\n",
              "      <th>3738</th>\n",
              "      <td>2.0</td>\n",
              "      <td>0.000000</td>\n",
              "      <td>0.000000</td>\n",
              "    </tr>\n",
              "    <tr>\n",
              "      <th>3515</th>\n",
              "      <td>0.0</td>\n",
              "      <td>853.500000</td>\n",
              "      <td>21.884615</td>\n",
              "    </tr>\n",
              "    <tr>\n",
              "      <th>1116</th>\n",
              "      <td>15.0</td>\n",
              "      <td>160.000000</td>\n",
              "      <td>1.649485</td>\n",
              "    </tr>\n",
              "    <tr>\n",
              "      <th>...</th>\n",
              "      <td>...</td>\n",
              "      <td>...</td>\n",
              "      <td>...</td>\n",
              "    </tr>\n",
              "    <tr>\n",
              "      <th>4426</th>\n",
              "      <td>0.0</td>\n",
              "      <td>315.000000</td>\n",
              "      <td>4.846154</td>\n",
              "    </tr>\n",
              "    <tr>\n",
              "      <th>466</th>\n",
              "      <td>7.0</td>\n",
              "      <td>106.000000</td>\n",
              "      <td>1.247059</td>\n",
              "    </tr>\n",
              "    <tr>\n",
              "      <th>3092</th>\n",
              "      <td>9.0</td>\n",
              "      <td>184.190476</td>\n",
              "      <td>2.361416</td>\n",
              "    </tr>\n",
              "    <tr>\n",
              "      <th>3772</th>\n",
              "      <td>11.0</td>\n",
              "      <td>264.000000</td>\n",
              "      <td>2.808511</td>\n",
              "    </tr>\n",
              "    <tr>\n",
              "      <th>860</th>\n",
              "      <td>10.0</td>\n",
              "      <td>221.916667</td>\n",
              "      <td>2.133814</td>\n",
              "    </tr>\n",
              "  </tbody>\n",
              "</table>\n",
              "<p>3786 rows × 3 columns</p>\n",
              "</div>\n",
              "    <div class=\"colab-df-buttons\">\n",
              "\n",
              "  <div class=\"colab-df-container\">\n",
              "    <button class=\"colab-df-convert\" onclick=\"convertToInteractive('df-7cbb9afe-612a-4cd0-b1a9-d867e114a8d1')\"\n",
              "            title=\"Convert this dataframe to an interactive table.\"\n",
              "            style=\"display:none;\">\n",
              "\n",
              "  <svg xmlns=\"http://www.w3.org/2000/svg\" height=\"24px\" viewBox=\"0 -960 960 960\">\n",
              "    <path d=\"M120-120v-720h720v720H120Zm60-500h600v-160H180v160Zm220 220h160v-160H400v160Zm0 220h160v-160H400v160ZM180-400h160v-160H180v160Zm440 0h160v-160H620v160ZM180-180h160v-160H180v160Zm440 0h160v-160H620v160Z\"/>\n",
              "  </svg>\n",
              "    </button>\n",
              "\n",
              "  <style>\n",
              "    .colab-df-container {\n",
              "      display:flex;\n",
              "      gap: 12px;\n",
              "    }\n",
              "\n",
              "    .colab-df-convert {\n",
              "      background-color: #E8F0FE;\n",
              "      border: none;\n",
              "      border-radius: 50%;\n",
              "      cursor: pointer;\n",
              "      display: none;\n",
              "      fill: #1967D2;\n",
              "      height: 32px;\n",
              "      padding: 0 0 0 0;\n",
              "      width: 32px;\n",
              "    }\n",
              "\n",
              "    .colab-df-convert:hover {\n",
              "      background-color: #E2EBFA;\n",
              "      box-shadow: 0px 1px 2px rgba(60, 64, 67, 0.3), 0px 1px 3px 1px rgba(60, 64, 67, 0.15);\n",
              "      fill: #174EA6;\n",
              "    }\n",
              "\n",
              "    .colab-df-buttons div {\n",
              "      margin-bottom: 4px;\n",
              "    }\n",
              "\n",
              "    [theme=dark] .colab-df-convert {\n",
              "      background-color: #3B4455;\n",
              "      fill: #D2E3FC;\n",
              "    }\n",
              "\n",
              "    [theme=dark] .colab-df-convert:hover {\n",
              "      background-color: #434B5C;\n",
              "      box-shadow: 0px 1px 3px 1px rgba(0, 0, 0, 0.15);\n",
              "      filter: drop-shadow(0px 1px 2px rgba(0, 0, 0, 0.3));\n",
              "      fill: #FFFFFF;\n",
              "    }\n",
              "  </style>\n",
              "\n",
              "    <script>\n",
              "      const buttonEl =\n",
              "        document.querySelector('#df-7cbb9afe-612a-4cd0-b1a9-d867e114a8d1 button.colab-df-convert');\n",
              "      buttonEl.style.display =\n",
              "        google.colab.kernel.accessAllowed ? 'block' : 'none';\n",
              "\n",
              "      async function convertToInteractive(key) {\n",
              "        const element = document.querySelector('#df-7cbb9afe-612a-4cd0-b1a9-d867e114a8d1');\n",
              "        const dataTable =\n",
              "          await google.colab.kernel.invokeFunction('convertToInteractive',\n",
              "                                                    [key], {});\n",
              "        if (!dataTable) return;\n",
              "\n",
              "        const docLinkHtml = 'Like what you see? Visit the ' +\n",
              "          '<a target=\"_blank\" href=https://colab.research.google.com/notebooks/data_table.ipynb>data table notebook</a>'\n",
              "          + ' to learn more about interactive tables.';\n",
              "        element.innerHTML = '';\n",
              "        dataTable['output_type'] = 'display_data';\n",
              "        await google.colab.output.renderOutput(dataTable, element);\n",
              "        const docLink = document.createElement('div');\n",
              "        docLink.innerHTML = docLinkHtml;\n",
              "        element.appendChild(docLink);\n",
              "      }\n",
              "    </script>\n",
              "  </div>\n",
              "\n",
              "\n",
              "<div id=\"df-78bc2647-b127-491f-8c04-035b6dec8dd2\">\n",
              "  <button class=\"colab-df-quickchart\" onclick=\"quickchart('df-78bc2647-b127-491f-8c04-035b6dec8dd2')\"\n",
              "            title=\"Suggest charts\"\n",
              "            style=\"display:none;\">\n",
              "\n",
              "<svg xmlns=\"http://www.w3.org/2000/svg\" height=\"24px\"viewBox=\"0 0 24 24\"\n",
              "     width=\"24px\">\n",
              "    <g>\n",
              "        <path d=\"M19 3H5c-1.1 0-2 .9-2 2v14c0 1.1.9 2 2 2h14c1.1 0 2-.9 2-2V5c0-1.1-.9-2-2-2zM9 17H7v-7h2v7zm4 0h-2V7h2v10zm4 0h-2v-4h2v4z\"/>\n",
              "    </g>\n",
              "</svg>\n",
              "  </button>\n",
              "\n",
              "<style>\n",
              "  .colab-df-quickchart {\n",
              "      --bg-color: #E8F0FE;\n",
              "      --fill-color: #1967D2;\n",
              "      --hover-bg-color: #E2EBFA;\n",
              "      --hover-fill-color: #174EA6;\n",
              "      --disabled-fill-color: #AAA;\n",
              "      --disabled-bg-color: #DDD;\n",
              "  }\n",
              "\n",
              "  [theme=dark] .colab-df-quickchart {\n",
              "      --bg-color: #3B4455;\n",
              "      --fill-color: #D2E3FC;\n",
              "      --hover-bg-color: #434B5C;\n",
              "      --hover-fill-color: #FFFFFF;\n",
              "      --disabled-bg-color: #3B4455;\n",
              "      --disabled-fill-color: #666;\n",
              "  }\n",
              "\n",
              "  .colab-df-quickchart {\n",
              "    background-color: var(--bg-color);\n",
              "    border: none;\n",
              "    border-radius: 50%;\n",
              "    cursor: pointer;\n",
              "    display: none;\n",
              "    fill: var(--fill-color);\n",
              "    height: 32px;\n",
              "    padding: 0;\n",
              "    width: 32px;\n",
              "  }\n",
              "\n",
              "  .colab-df-quickchart:hover {\n",
              "    background-color: var(--hover-bg-color);\n",
              "    box-shadow: 0 1px 2px rgba(60, 64, 67, 0.3), 0 1px 3px 1px rgba(60, 64, 67, 0.15);\n",
              "    fill: var(--button-hover-fill-color);\n",
              "  }\n",
              "\n",
              "  .colab-df-quickchart-complete:disabled,\n",
              "  .colab-df-quickchart-complete:disabled:hover {\n",
              "    background-color: var(--disabled-bg-color);\n",
              "    fill: var(--disabled-fill-color);\n",
              "    box-shadow: none;\n",
              "  }\n",
              "\n",
              "  .colab-df-spinner {\n",
              "    border: 2px solid var(--fill-color);\n",
              "    border-color: transparent;\n",
              "    border-bottom-color: var(--fill-color);\n",
              "    animation:\n",
              "      spin 1s steps(1) infinite;\n",
              "  }\n",
              "\n",
              "  @keyframes spin {\n",
              "    0% {\n",
              "      border-color: transparent;\n",
              "      border-bottom-color: var(--fill-color);\n",
              "      border-left-color: var(--fill-color);\n",
              "    }\n",
              "    20% {\n",
              "      border-color: transparent;\n",
              "      border-left-color: var(--fill-color);\n",
              "      border-top-color: var(--fill-color);\n",
              "    }\n",
              "    30% {\n",
              "      border-color: transparent;\n",
              "      border-left-color: var(--fill-color);\n",
              "      border-top-color: var(--fill-color);\n",
              "      border-right-color: var(--fill-color);\n",
              "    }\n",
              "    40% {\n",
              "      border-color: transparent;\n",
              "      border-right-color: var(--fill-color);\n",
              "      border-top-color: var(--fill-color);\n",
              "    }\n",
              "    60% {\n",
              "      border-color: transparent;\n",
              "      border-right-color: var(--fill-color);\n",
              "    }\n",
              "    80% {\n",
              "      border-color: transparent;\n",
              "      border-right-color: var(--fill-color);\n",
              "      border-bottom-color: var(--fill-color);\n",
              "    }\n",
              "    90% {\n",
              "      border-color: transparent;\n",
              "      border-bottom-color: var(--fill-color);\n",
              "    }\n",
              "  }\n",
              "</style>\n",
              "\n",
              "  <script>\n",
              "    async function quickchart(key) {\n",
              "      const quickchartButtonEl =\n",
              "        document.querySelector('#' + key + ' button');\n",
              "      quickchartButtonEl.disabled = true;  // To prevent multiple clicks.\n",
              "      quickchartButtonEl.classList.add('colab-df-spinner');\n",
              "      try {\n",
              "        const charts = await google.colab.kernel.invokeFunction(\n",
              "            'suggestCharts', [key], {});\n",
              "      } catch (error) {\n",
              "        console.error('Error during call to suggestCharts:', error);\n",
              "      }\n",
              "      quickchartButtonEl.classList.remove('colab-df-spinner');\n",
              "      quickchartButtonEl.classList.add('colab-df-quickchart-complete');\n",
              "    }\n",
              "    (() => {\n",
              "      let quickchartButtonEl =\n",
              "        document.querySelector('#df-78bc2647-b127-491f-8c04-035b6dec8dd2 button');\n",
              "      quickchartButtonEl.style.display =\n",
              "        google.colab.kernel.accessAllowed ? 'block' : 'none';\n",
              "    })();\n",
              "  </script>\n",
              "</div>\n",
              "    </div>\n",
              "  </div>\n"
            ],
            "application/vnd.google.colaboratory.intrinsic+json": {
              "type": "dataframe",
              "variable_name": "X_train",
              "summary": "{\n  \"name\": \"X_train\",\n  \"rows\": 3786,\n  \"fields\": [\n    {\n      \"column\": \"mentions\",\n      \"properties\": {\n        \"dtype\": \"number\",\n        \"std\": 10.296097492793983,\n        \"min\": 0.0,\n        \"max\": 128.0,\n        \"num_unique_values\": 74,\n        \"samples\": [\n          15.0,\n          54.0,\n          6.0\n        ],\n        \"semantic_type\": \"\",\n        \"description\": \"\"\n      }\n    },\n    {\n      \"column\": \"total centrality\",\n      \"properties\": {\n        \"dtype\": \"number\",\n        \"std\": 847.2201048844524,\n        \"min\": 0.0,\n        \"max\": 18998.16667,\n        \"num_unique_values\": 1972,\n        \"samples\": [\n          541.1666667,\n          113.0,\n          735.4666667\n        ],\n        \"semantic_type\": \"\",\n        \"description\": \"\"\n      }\n    },\n    {\n      \"column\": \"average centrality\",\n      \"properties\": {\n        \"dtype\": \"number\",\n        \"std\": 6.689279333294447,\n        \"min\": 0.0,\n        \"max\": 91.60098039,\n        \"num_unique_values\": 2971,\n        \"samples\": [\n          14.52631579,\n          11.13333333,\n          2.447058824\n        ],\n        \"semantic_type\": \"\",\n        \"description\": \"\"\n      }\n    }\n  ]\n}"
            }
          },
          "metadata": {},
          "execution_count": 166
        }
      ],
      "source": [
        "X_train"
      ]
    },
    {
      "cell_type": "markdown",
      "id": "10eb2153",
      "metadata": {
        "id": "10eb2153"
      },
      "source": [
        "# Linear Regression"
      ]
    },
    {
      "cell_type": "code",
      "execution_count": 167,
      "id": "293c02d9",
      "metadata": {
        "colab": {
          "base_uri": "https://localhost:8080/",
          "height": 74
        },
        "id": "293c02d9",
        "outputId": "271577e4-9e5b-43bc-e3e3-70267c8d38bc"
      },
      "outputs": [
        {
          "output_type": "execute_result",
          "data": {
            "text/plain": [
              "LinearRegression()"
            ],
            "text/html": [
              "<style>#sk-container-id-3 {color: black;background-color: white;}#sk-container-id-3 pre{padding: 0;}#sk-container-id-3 div.sk-toggleable {background-color: white;}#sk-container-id-3 label.sk-toggleable__label {cursor: pointer;display: block;width: 100%;margin-bottom: 0;padding: 0.3em;box-sizing: border-box;text-align: center;}#sk-container-id-3 label.sk-toggleable__label-arrow:before {content: \"▸\";float: left;margin-right: 0.25em;color: #696969;}#sk-container-id-3 label.sk-toggleable__label-arrow:hover:before {color: black;}#sk-container-id-3 div.sk-estimator:hover label.sk-toggleable__label-arrow:before {color: black;}#sk-container-id-3 div.sk-toggleable__content {max-height: 0;max-width: 0;overflow: hidden;text-align: left;background-color: #f0f8ff;}#sk-container-id-3 div.sk-toggleable__content pre {margin: 0.2em;color: black;border-radius: 0.25em;background-color: #f0f8ff;}#sk-container-id-3 input.sk-toggleable__control:checked~div.sk-toggleable__content {max-height: 200px;max-width: 100%;overflow: auto;}#sk-container-id-3 input.sk-toggleable__control:checked~label.sk-toggleable__label-arrow:before {content: \"▾\";}#sk-container-id-3 div.sk-estimator input.sk-toggleable__control:checked~label.sk-toggleable__label {background-color: #d4ebff;}#sk-container-id-3 div.sk-label input.sk-toggleable__control:checked~label.sk-toggleable__label {background-color: #d4ebff;}#sk-container-id-3 input.sk-hidden--visually {border: 0;clip: rect(1px 1px 1px 1px);clip: rect(1px, 1px, 1px, 1px);height: 1px;margin: -1px;overflow: hidden;padding: 0;position: absolute;width: 1px;}#sk-container-id-3 div.sk-estimator {font-family: monospace;background-color: #f0f8ff;border: 1px dotted black;border-radius: 0.25em;box-sizing: border-box;margin-bottom: 0.5em;}#sk-container-id-3 div.sk-estimator:hover {background-color: #d4ebff;}#sk-container-id-3 div.sk-parallel-item::after {content: \"\";width: 100%;border-bottom: 1px solid gray;flex-grow: 1;}#sk-container-id-3 div.sk-label:hover label.sk-toggleable__label {background-color: #d4ebff;}#sk-container-id-3 div.sk-serial::before {content: \"\";position: absolute;border-left: 1px solid gray;box-sizing: border-box;top: 0;bottom: 0;left: 50%;z-index: 0;}#sk-container-id-3 div.sk-serial {display: flex;flex-direction: column;align-items: center;background-color: white;padding-right: 0.2em;padding-left: 0.2em;position: relative;}#sk-container-id-3 div.sk-item {position: relative;z-index: 1;}#sk-container-id-3 div.sk-parallel {display: flex;align-items: stretch;justify-content: center;background-color: white;position: relative;}#sk-container-id-3 div.sk-item::before, #sk-container-id-3 div.sk-parallel-item::before {content: \"\";position: absolute;border-left: 1px solid gray;box-sizing: border-box;top: 0;bottom: 0;left: 50%;z-index: -1;}#sk-container-id-3 div.sk-parallel-item {display: flex;flex-direction: column;z-index: 1;position: relative;background-color: white;}#sk-container-id-3 div.sk-parallel-item:first-child::after {align-self: flex-end;width: 50%;}#sk-container-id-3 div.sk-parallel-item:last-child::after {align-self: flex-start;width: 50%;}#sk-container-id-3 div.sk-parallel-item:only-child::after {width: 0;}#sk-container-id-3 div.sk-dashed-wrapped {border: 1px dashed gray;margin: 0 0.4em 0.5em 0.4em;box-sizing: border-box;padding-bottom: 0.4em;background-color: white;}#sk-container-id-3 div.sk-label label {font-family: monospace;font-weight: bold;display: inline-block;line-height: 1.2em;}#sk-container-id-3 div.sk-label-container {text-align: center;}#sk-container-id-3 div.sk-container {/* jupyter's `normalize.less` sets `[hidden] { display: none; }` but bootstrap.min.css set `[hidden] { display: none !important; }` so we also need the `!important` here to be able to override the default hidden behavior on the sphinx rendered scikit-learn.org. See: https://github.com/scikit-learn/scikit-learn/issues/21755 */display: inline-block !important;position: relative;}#sk-container-id-3 div.sk-text-repr-fallback {display: none;}</style><div id=\"sk-container-id-3\" class=\"sk-top-container\"><div class=\"sk-text-repr-fallback\"><pre>LinearRegression()</pre><b>In a Jupyter environment, please rerun this cell to show the HTML representation or trust the notebook. <br />On GitHub, the HTML representation is unable to render, please try loading this page with nbviewer.org.</b></div><div class=\"sk-container\" hidden><div class=\"sk-item\"><div class=\"sk-estimator sk-toggleable\"><input class=\"sk-toggleable__control sk-hidden--visually\" id=\"sk-estimator-id-3\" type=\"checkbox\" checked><label for=\"sk-estimator-id-3\" class=\"sk-toggleable__label sk-toggleable__label-arrow\">LinearRegression</label><div class=\"sk-toggleable__content\"><pre>LinearRegression()</pre></div></div></div></div></div>"
            ]
          },
          "metadata": {},
          "execution_count": 167
        }
      ],
      "source": [
        "from sklearn.linear_model import LinearRegression\n",
        "lr = LinearRegression()\n",
        "lr.fit(X_train, Y_train)"
      ]
    },
    {
      "cell_type": "code",
      "execution_count": 168,
      "id": "b5e50f64",
      "metadata": {
        "id": "b5e50f64"
      },
      "outputs": [],
      "source": [
        "lr.predict(X_test)\n",
        "Y_pred = lr.predict(X_test)"
      ]
    },
    {
      "cell_type": "code",
      "execution_count": 169,
      "id": "9488e817",
      "metadata": {
        "colab": {
          "base_uri": "https://localhost:8080/"
        },
        "id": "9488e817",
        "outputId": "14ff0e30-14a0-42b2-c671-97ebb72751bf"
      },
      "outputs": [
        {
          "output_type": "execute_result",
          "data": {
            "text/plain": [
              "array([ 14.61810894,  49.78532688,  64.81348323, ...,  52.11569388,\n",
              "        83.73433431, 129.00932505])"
            ]
          },
          "metadata": {},
          "execution_count": 169
        }
      ],
      "source": [
        "Y_pred"
      ]
    },
    {
      "cell_type": "code",
      "execution_count": 170,
      "id": "f5d4d32f",
      "metadata": {
        "id": "f5d4d32f"
      },
      "outputs": [],
      "source": [
        "cutoff = 0.7\n",
        "y_pred_classes = np.zeros_like(Y_pred)\n",
        "y_pred_classes[Y_pred > cutoff] = 1"
      ]
    },
    {
      "cell_type": "code",
      "execution_count": 171,
      "id": "ceab244d",
      "metadata": {
        "id": "ceab244d"
      },
      "outputs": [],
      "source": [
        "y_test_classes = np.zeros_like(Y_pred)\n",
        "y_test_classes[Y_test > cutoff] = 1"
      ]
    },
    {
      "cell_type": "code",
      "execution_count": 172,
      "id": "0bda2602",
      "metadata": {
        "colab": {
          "base_uri": "https://localhost:8080/"
        },
        "id": "0bda2602",
        "outputId": "4a31d37a-f9bf-448a-cafc-1df6e3c23aaa"
      },
      "outputs": [
        {
          "output_type": "stream",
          "name": "stdout",
          "text": [
            "Confusion Matrix : \n",
            " [[   0   32]\n",
            " [  21 1209]]\n"
          ]
        }
      ],
      "source": [
        "from sklearn.metrics import confusion_matrix\n",
        "cm = confusion_matrix(y_test_classes, y_pred_classes)\n",
        "\n",
        "print (\"Confusion Matrix : \\n\", cm)"
      ]
    },
    {
      "cell_type": "code",
      "execution_count": 173,
      "id": "dc67369a",
      "metadata": {
        "scrolled": true,
        "colab": {
          "base_uri": "https://localhost:8080/"
        },
        "id": "dc67369a",
        "outputId": "5b340588-8a32-4a3c-f280-6c6eba23781f"
      },
      "outputs": [
        {
          "output_type": "stream",
          "name": "stdout",
          "text": [
            "Accuracy :  0.9580031695721077\n"
          ]
        }
      ],
      "source": [
        "from sklearn.metrics import accuracy_score\n",
        "print (\"Accuracy : \", accuracy_score(y_test_classes, y_pred_classes))"
      ]
    },
    {
      "cell_type": "markdown",
      "id": "94814973",
      "metadata": {
        "id": "94814973"
      },
      "source": [
        "# input"
      ]
    },
    {
      "cell_type": "code",
      "execution_count": 174,
      "id": "5c26a9ab",
      "metadata": {
        "id": "5c26a9ab"
      },
      "outputs": [],
      "source": [
        "features = np.array([[14.0,352.000000,2.444444]])"
      ]
    },
    {
      "cell_type": "markdown",
      "id": "38d93e1b",
      "metadata": {
        "id": "38d93e1b"
      },
      "source": [
        "# output\n"
      ]
    },
    {
      "cell_type": "code",
      "execution_count": 175,
      "id": "190a4280",
      "metadata": {
        "scrolled": true,
        "colab": {
          "base_uri": "https://localhost:8080/"
        },
        "id": "190a4280",
        "outputId": "899640d0-2839-41be-86e6-560f169550e8"
      },
      "outputs": [
        {
          "output_type": "stream",
          "name": "stdout",
          "text": [
            "[122.30616951]\n"
          ]
        },
        {
          "output_type": "stream",
          "name": "stderr",
          "text": [
            "/usr/local/lib/python3.10/dist-packages/sklearn/base.py:439: UserWarning: X does not have valid feature names, but LinearRegression was fitted with feature names\n",
            "  warnings.warn(\n"
          ]
        }
      ],
      "source": [
        "Y_pred = lr.predict(features)\n",
        "Y_pred =[Y_pred][0]\n",
        "print(Y_pred)"
      ]
    },
    {
      "cell_type": "code",
      "execution_count": 176,
      "id": "f6a7c833",
      "metadata": {
        "colab": {
          "base_uri": "https://localhost:8080/"
        },
        "id": "f6a7c833",
        "outputId": "940b29ea-0127-46d7-b0c6-d1c137bafabd"
      },
      "outputs": [
        {
          "output_type": "execute_result",
          "data": {
            "text/plain": [
              "mentions              5\n",
              "total centrality      5\n",
              "count                 5\n",
              "average centrality    5\n",
              "dtype: int64"
            ]
          },
          "metadata": {},
          "execution_count": 176
        }
      ],
      "source": [
        "dm.isna().sum()"
      ]
    },
    {
      "cell_type": "code",
      "execution_count": 177,
      "id": "4c2d6c36",
      "metadata": {
        "colab": {
          "base_uri": "https://localhost:8080/"
        },
        "id": "4c2d6c36",
        "outputId": "46e71261-5c44-4df3-e4fe-4c6826c5a7b6"
      },
      "outputs": [
        {
          "output_type": "execute_result",
          "data": {
            "text/plain": [
              "0.0"
            ]
          },
          "metadata": {},
          "execution_count": 177
        }
      ],
      "source": [
        "dm['mentions'].mode()[0]"
      ]
    },
    {
      "cell_type": "code",
      "execution_count": 178,
      "id": "05617918",
      "metadata": {
        "colab": {
          "base_uri": "https://localhost:8080/"
        },
        "id": "05617918",
        "outputId": "22a22ff1-dd75-4f59-8df3-74d59e9cee17"
      },
      "outputs": [
        {
          "output_type": "execute_result",
          "data": {
            "text/plain": [
              "mentions              0\n",
              "total centrality      5\n",
              "count                 5\n",
              "average centrality    5\n",
              "dtype: int64"
            ]
          },
          "metadata": {},
          "execution_count": 178
        }
      ],
      "source": [
        "dm['mentions']=dm['mentions'].fillna(value=dm['mentions'].mode()[0])\n",
        "dm.isna().sum()"
      ]
    },
    {
      "cell_type": "code",
      "execution_count": 179,
      "id": "8d4626da",
      "metadata": {
        "colab": {
          "base_uri": "https://localhost:8080/"
        },
        "id": "8d4626da",
        "outputId": "58087e91-85ec-49ea-f115-544670993de0"
      },
      "outputs": [
        {
          "output_type": "execute_result",
          "data": {
            "text/plain": [
              "136.0"
            ]
          },
          "metadata": {},
          "execution_count": 179
        }
      ],
      "source": [
        "dm['total centrality'].median()"
      ]
    },
    {
      "cell_type": "code",
      "execution_count": 180,
      "id": "2dd071f6",
      "metadata": {
        "colab": {
          "base_uri": "https://localhost:8080/"
        },
        "id": "2dd071f6",
        "outputId": "9687ca72-7451-4524-a5c0-6eb723c7300c"
      },
      "outputs": [
        {
          "output_type": "execute_result",
          "data": {
            "text/plain": [
              "mentions              0\n",
              "total centrality      0\n",
              "count                 5\n",
              "average centrality    5\n",
              "dtype: int64"
            ]
          },
          "metadata": {},
          "execution_count": 180
        }
      ],
      "source": [
        "dm['total centrality']=dm['total centrality'].fillna(value=dm['total centrality'].median())\n",
        "dm.isna().sum()"
      ]
    },
    {
      "cell_type": "code",
      "execution_count": 181,
      "id": "6e8f9986",
      "metadata": {
        "colab": {
          "base_uri": "https://localhost:8080/"
        },
        "id": "6e8f9986",
        "outputId": "3159d7be-5567-464a-ea32-497e0a0161ca"
      },
      "outputs": [
        {
          "output_type": "execute_result",
          "data": {
            "text/plain": [
              "51.0"
            ]
          },
          "metadata": {},
          "execution_count": 181
        }
      ],
      "source": [
        "dm['count'].median()"
      ]
    },
    {
      "cell_type": "code",
      "execution_count": 182,
      "id": "423b0a40",
      "metadata": {
        "colab": {
          "base_uri": "https://localhost:8080/"
        },
        "id": "423b0a40",
        "outputId": "cff51f6b-6864-4199-b5fb-af66614b11cf"
      },
      "outputs": [
        {
          "output_type": "execute_result",
          "data": {
            "text/plain": [
              "mentions              0\n",
              "total centrality      0\n",
              "count                 0\n",
              "average centrality    5\n",
              "dtype: int64"
            ]
          },
          "metadata": {},
          "execution_count": 182
        }
      ],
      "source": [
        "dm['count']=dm['count'].fillna(value=dm['count'].median())\n",
        "dm.isna().sum()"
      ]
    },
    {
      "cell_type": "code",
      "execution_count": 183,
      "id": "cc9caef3",
      "metadata": {
        "colab": {
          "base_uri": "https://localhost:8080/"
        },
        "id": "cc9caef3",
        "outputId": "3bfd9e5b-7160-43aa-c7df-ebce66fbd8fe"
      },
      "outputs": [
        {
          "output_type": "execute_result",
          "data": {
            "text/plain": [
              "4.810756396276102"
            ]
          },
          "metadata": {},
          "execution_count": 183
        }
      ],
      "source": [
        "dm['average centrality'].mean()"
      ]
    },
    {
      "cell_type": "code",
      "execution_count": 184,
      "id": "72d846d5",
      "metadata": {
        "scrolled": true,
        "colab": {
          "base_uri": "https://localhost:8080/"
        },
        "id": "72d846d5",
        "outputId": "3ced4d74-c478-4bf7-8979-fce12ab6a703"
      },
      "outputs": [
        {
          "output_type": "execute_result",
          "data": {
            "text/plain": [
              "mentions              0\n",
              "total centrality      0\n",
              "count                 0\n",
              "average centrality    0\n",
              "dtype: int64"
            ]
          },
          "metadata": {},
          "execution_count": 184
        }
      ],
      "source": [
        "dm['average centrality']=dm['average centrality'].fillna(value=dm['average centrality'].mean())\n",
        "dm.isna().sum()"
      ]
    },
    {
      "cell_type": "code",
      "execution_count": 185,
      "id": "9da018c2",
      "metadata": {
        "id": "9da018c2"
      },
      "outputs": [],
      "source": [
        "X=dm.drop('count',axis=1)\n",
        "y=dm['count']\n",
        "\n",
        "from sklearn.model_selection import train_test_split\n",
        "X_train,X_test,Y_train,Y_test=train_test_split(X,y,test_size=0.25,random_state=42)"
      ]
    },
    {
      "cell_type": "code",
      "execution_count": 186,
      "id": "4d76631b",
      "metadata": {
        "colab": {
          "base_uri": "https://localhost:8080/",
          "height": 423
        },
        "id": "4d76631b",
        "outputId": "787d2106-db18-4b13-86da-605d9fdd4b8f"
      },
      "outputs": [
        {
          "output_type": "execute_result",
          "data": {
            "text/plain": [
              "      mentions  total centrality  average centrality\n",
              "815        1.0         26.000000            3.714286\n",
              "2131      15.0        649.000000            3.345361\n",
              "7565       7.0       1018.030159            5.784262\n",
              "3946      23.0       7486.180000           40.908087\n",
              "6134      14.0        352.000000            2.444444\n",
              "...        ...               ...                 ...\n",
              "5734       6.0        656.000000            5.085271\n",
              "5191       1.0         13.000000            1.625000\n",
              "5390       3.0        439.833333            8.145062\n",
              "860        1.0         54.000000            4.153846\n",
              "7270       2.0          9.000000            0.300000\n",
              "\n",
              "[7014 rows x 3 columns]"
            ],
            "text/html": [
              "\n",
              "  <div id=\"df-0400c5f6-fa9c-4774-9fdc-62c2bb6f3337\" class=\"colab-df-container\">\n",
              "    <div>\n",
              "<style scoped>\n",
              "    .dataframe tbody tr th:only-of-type {\n",
              "        vertical-align: middle;\n",
              "    }\n",
              "\n",
              "    .dataframe tbody tr th {\n",
              "        vertical-align: top;\n",
              "    }\n",
              "\n",
              "    .dataframe thead th {\n",
              "        text-align: right;\n",
              "    }\n",
              "</style>\n",
              "<table border=\"1\" class=\"dataframe\">\n",
              "  <thead>\n",
              "    <tr style=\"text-align: right;\">\n",
              "      <th></th>\n",
              "      <th>mentions</th>\n",
              "      <th>total centrality</th>\n",
              "      <th>average centrality</th>\n",
              "    </tr>\n",
              "  </thead>\n",
              "  <tbody>\n",
              "    <tr>\n",
              "      <th>815</th>\n",
              "      <td>1.0</td>\n",
              "      <td>26.000000</td>\n",
              "      <td>3.714286</td>\n",
              "    </tr>\n",
              "    <tr>\n",
              "      <th>2131</th>\n",
              "      <td>15.0</td>\n",
              "      <td>649.000000</td>\n",
              "      <td>3.345361</td>\n",
              "    </tr>\n",
              "    <tr>\n",
              "      <th>7565</th>\n",
              "      <td>7.0</td>\n",
              "      <td>1018.030159</td>\n",
              "      <td>5.784262</td>\n",
              "    </tr>\n",
              "    <tr>\n",
              "      <th>3946</th>\n",
              "      <td>23.0</td>\n",
              "      <td>7486.180000</td>\n",
              "      <td>40.908087</td>\n",
              "    </tr>\n",
              "    <tr>\n",
              "      <th>6134</th>\n",
              "      <td>14.0</td>\n",
              "      <td>352.000000</td>\n",
              "      <td>2.444444</td>\n",
              "    </tr>\n",
              "    <tr>\n",
              "      <th>...</th>\n",
              "      <td>...</td>\n",
              "      <td>...</td>\n",
              "      <td>...</td>\n",
              "    </tr>\n",
              "    <tr>\n",
              "      <th>5734</th>\n",
              "      <td>6.0</td>\n",
              "      <td>656.000000</td>\n",
              "      <td>5.085271</td>\n",
              "    </tr>\n",
              "    <tr>\n",
              "      <th>5191</th>\n",
              "      <td>1.0</td>\n",
              "      <td>13.000000</td>\n",
              "      <td>1.625000</td>\n",
              "    </tr>\n",
              "    <tr>\n",
              "      <th>5390</th>\n",
              "      <td>3.0</td>\n",
              "      <td>439.833333</td>\n",
              "      <td>8.145062</td>\n",
              "    </tr>\n",
              "    <tr>\n",
              "      <th>860</th>\n",
              "      <td>1.0</td>\n",
              "      <td>54.000000</td>\n",
              "      <td>4.153846</td>\n",
              "    </tr>\n",
              "    <tr>\n",
              "      <th>7270</th>\n",
              "      <td>2.0</td>\n",
              "      <td>9.000000</td>\n",
              "      <td>0.300000</td>\n",
              "    </tr>\n",
              "  </tbody>\n",
              "</table>\n",
              "<p>7014 rows × 3 columns</p>\n",
              "</div>\n",
              "    <div class=\"colab-df-buttons\">\n",
              "\n",
              "  <div class=\"colab-df-container\">\n",
              "    <button class=\"colab-df-convert\" onclick=\"convertToInteractive('df-0400c5f6-fa9c-4774-9fdc-62c2bb6f3337')\"\n",
              "            title=\"Convert this dataframe to an interactive table.\"\n",
              "            style=\"display:none;\">\n",
              "\n",
              "  <svg xmlns=\"http://www.w3.org/2000/svg\" height=\"24px\" viewBox=\"0 -960 960 960\">\n",
              "    <path d=\"M120-120v-720h720v720H120Zm60-500h600v-160H180v160Zm220 220h160v-160H400v160Zm0 220h160v-160H400v160ZM180-400h160v-160H180v160Zm440 0h160v-160H620v160ZM180-180h160v-160H180v160Zm440 0h160v-160H620v160Z\"/>\n",
              "  </svg>\n",
              "    </button>\n",
              "\n",
              "  <style>\n",
              "    .colab-df-container {\n",
              "      display:flex;\n",
              "      gap: 12px;\n",
              "    }\n",
              "\n",
              "    .colab-df-convert {\n",
              "      background-color: #E8F0FE;\n",
              "      border: none;\n",
              "      border-radius: 50%;\n",
              "      cursor: pointer;\n",
              "      display: none;\n",
              "      fill: #1967D2;\n",
              "      height: 32px;\n",
              "      padding: 0 0 0 0;\n",
              "      width: 32px;\n",
              "    }\n",
              "\n",
              "    .colab-df-convert:hover {\n",
              "      background-color: #E2EBFA;\n",
              "      box-shadow: 0px 1px 2px rgba(60, 64, 67, 0.3), 0px 1px 3px 1px rgba(60, 64, 67, 0.15);\n",
              "      fill: #174EA6;\n",
              "    }\n",
              "\n",
              "    .colab-df-buttons div {\n",
              "      margin-bottom: 4px;\n",
              "    }\n",
              "\n",
              "    [theme=dark] .colab-df-convert {\n",
              "      background-color: #3B4455;\n",
              "      fill: #D2E3FC;\n",
              "    }\n",
              "\n",
              "    [theme=dark] .colab-df-convert:hover {\n",
              "      background-color: #434B5C;\n",
              "      box-shadow: 0px 1px 3px 1px rgba(0, 0, 0, 0.15);\n",
              "      filter: drop-shadow(0px 1px 2px rgba(0, 0, 0, 0.3));\n",
              "      fill: #FFFFFF;\n",
              "    }\n",
              "  </style>\n",
              "\n",
              "    <script>\n",
              "      const buttonEl =\n",
              "        document.querySelector('#df-0400c5f6-fa9c-4774-9fdc-62c2bb6f3337 button.colab-df-convert');\n",
              "      buttonEl.style.display =\n",
              "        google.colab.kernel.accessAllowed ? 'block' : 'none';\n",
              "\n",
              "      async function convertToInteractive(key) {\n",
              "        const element = document.querySelector('#df-0400c5f6-fa9c-4774-9fdc-62c2bb6f3337');\n",
              "        const dataTable =\n",
              "          await google.colab.kernel.invokeFunction('convertToInteractive',\n",
              "                                                    [key], {});\n",
              "        if (!dataTable) return;\n",
              "\n",
              "        const docLinkHtml = 'Like what you see? Visit the ' +\n",
              "          '<a target=\"_blank\" href=https://colab.research.google.com/notebooks/data_table.ipynb>data table notebook</a>'\n",
              "          + ' to learn more about interactive tables.';\n",
              "        element.innerHTML = '';\n",
              "        dataTable['output_type'] = 'display_data';\n",
              "        await google.colab.output.renderOutput(dataTable, element);\n",
              "        const docLink = document.createElement('div');\n",
              "        docLink.innerHTML = docLinkHtml;\n",
              "        element.appendChild(docLink);\n",
              "      }\n",
              "    </script>\n",
              "  </div>\n",
              "\n",
              "\n",
              "<div id=\"df-0093d4c8-1aa0-4426-95b8-ae10766c206d\">\n",
              "  <button class=\"colab-df-quickchart\" onclick=\"quickchart('df-0093d4c8-1aa0-4426-95b8-ae10766c206d')\"\n",
              "            title=\"Suggest charts\"\n",
              "            style=\"display:none;\">\n",
              "\n",
              "<svg xmlns=\"http://www.w3.org/2000/svg\" height=\"24px\"viewBox=\"0 0 24 24\"\n",
              "     width=\"24px\">\n",
              "    <g>\n",
              "        <path d=\"M19 3H5c-1.1 0-2 .9-2 2v14c0 1.1.9 2 2 2h14c1.1 0 2-.9 2-2V5c0-1.1-.9-2-2-2zM9 17H7v-7h2v7zm4 0h-2V7h2v10zm4 0h-2v-4h2v4z\"/>\n",
              "    </g>\n",
              "</svg>\n",
              "  </button>\n",
              "\n",
              "<style>\n",
              "  .colab-df-quickchart {\n",
              "      --bg-color: #E8F0FE;\n",
              "      --fill-color: #1967D2;\n",
              "      --hover-bg-color: #E2EBFA;\n",
              "      --hover-fill-color: #174EA6;\n",
              "      --disabled-fill-color: #AAA;\n",
              "      --disabled-bg-color: #DDD;\n",
              "  }\n",
              "\n",
              "  [theme=dark] .colab-df-quickchart {\n",
              "      --bg-color: #3B4455;\n",
              "      --fill-color: #D2E3FC;\n",
              "      --hover-bg-color: #434B5C;\n",
              "      --hover-fill-color: #FFFFFF;\n",
              "      --disabled-bg-color: #3B4455;\n",
              "      --disabled-fill-color: #666;\n",
              "  }\n",
              "\n",
              "  .colab-df-quickchart {\n",
              "    background-color: var(--bg-color);\n",
              "    border: none;\n",
              "    border-radius: 50%;\n",
              "    cursor: pointer;\n",
              "    display: none;\n",
              "    fill: var(--fill-color);\n",
              "    height: 32px;\n",
              "    padding: 0;\n",
              "    width: 32px;\n",
              "  }\n",
              "\n",
              "  .colab-df-quickchart:hover {\n",
              "    background-color: var(--hover-bg-color);\n",
              "    box-shadow: 0 1px 2px rgba(60, 64, 67, 0.3), 0 1px 3px 1px rgba(60, 64, 67, 0.15);\n",
              "    fill: var(--button-hover-fill-color);\n",
              "  }\n",
              "\n",
              "  .colab-df-quickchart-complete:disabled,\n",
              "  .colab-df-quickchart-complete:disabled:hover {\n",
              "    background-color: var(--disabled-bg-color);\n",
              "    fill: var(--disabled-fill-color);\n",
              "    box-shadow: none;\n",
              "  }\n",
              "\n",
              "  .colab-df-spinner {\n",
              "    border: 2px solid var(--fill-color);\n",
              "    border-color: transparent;\n",
              "    border-bottom-color: var(--fill-color);\n",
              "    animation:\n",
              "      spin 1s steps(1) infinite;\n",
              "  }\n",
              "\n",
              "  @keyframes spin {\n",
              "    0% {\n",
              "      border-color: transparent;\n",
              "      border-bottom-color: var(--fill-color);\n",
              "      border-left-color: var(--fill-color);\n",
              "    }\n",
              "    20% {\n",
              "      border-color: transparent;\n",
              "      border-left-color: var(--fill-color);\n",
              "      border-top-color: var(--fill-color);\n",
              "    }\n",
              "    30% {\n",
              "      border-color: transparent;\n",
              "      border-left-color: var(--fill-color);\n",
              "      border-top-color: var(--fill-color);\n",
              "      border-right-color: var(--fill-color);\n",
              "    }\n",
              "    40% {\n",
              "      border-color: transparent;\n",
              "      border-right-color: var(--fill-color);\n",
              "      border-top-color: var(--fill-color);\n",
              "    }\n",
              "    60% {\n",
              "      border-color: transparent;\n",
              "      border-right-color: var(--fill-color);\n",
              "    }\n",
              "    80% {\n",
              "      border-color: transparent;\n",
              "      border-right-color: var(--fill-color);\n",
              "      border-bottom-color: var(--fill-color);\n",
              "    }\n",
              "    90% {\n",
              "      border-color: transparent;\n",
              "      border-bottom-color: var(--fill-color);\n",
              "    }\n",
              "  }\n",
              "</style>\n",
              "\n",
              "  <script>\n",
              "    async function quickchart(key) {\n",
              "      const quickchartButtonEl =\n",
              "        document.querySelector('#' + key + ' button');\n",
              "      quickchartButtonEl.disabled = true;  // To prevent multiple clicks.\n",
              "      quickchartButtonEl.classList.add('colab-df-spinner');\n",
              "      try {\n",
              "        const charts = await google.colab.kernel.invokeFunction(\n",
              "            'suggestCharts', [key], {});\n",
              "      } catch (error) {\n",
              "        console.error('Error during call to suggestCharts:', error);\n",
              "      }\n",
              "      quickchartButtonEl.classList.remove('colab-df-spinner');\n",
              "      quickchartButtonEl.classList.add('colab-df-quickchart-complete');\n",
              "    }\n",
              "    (() => {\n",
              "      let quickchartButtonEl =\n",
              "        document.querySelector('#df-0093d4c8-1aa0-4426-95b8-ae10766c206d button');\n",
              "      quickchartButtonEl.style.display =\n",
              "        google.colab.kernel.accessAllowed ? 'block' : 'none';\n",
              "    })();\n",
              "  </script>\n",
              "</div>\n",
              "    </div>\n",
              "  </div>\n"
            ],
            "application/vnd.google.colaboratory.intrinsic+json": {
              "type": "dataframe",
              "variable_name": "X_train",
              "summary": "{\n  \"name\": \"X_train\",\n  \"rows\": 7014,\n  \"fields\": [\n    {\n      \"column\": \"mentions\",\n      \"properties\": {\n        \"dtype\": \"number\",\n        \"std\": 10.901387740662058,\n        \"min\": 0.0,\n        \"max\": 120.0,\n        \"num_unique_values\": 89,\n        \"samples\": [\n          17.0,\n          39.0,\n          47.0\n        ],\n        \"semantic_type\": \"\",\n        \"description\": \"\"\n      }\n    },\n    {\n      \"column\": \"total centrality\",\n      \"properties\": {\n        \"dtype\": \"number\",\n        \"std\": 1109.0312280509024,\n        \"min\": 0.0,\n        \"max\": 37514.13333,\n        \"num_unique_values\": 3087,\n        \"samples\": [\n          152.8333333,\n          723.0,\n          1173.5\n        ],\n        \"semantic_type\": \"\",\n        \"description\": \"\"\n      }\n    },\n    {\n      \"column\": \"average centrality\",\n      \"properties\": {\n        \"dtype\": \"number\",\n        \"std\": 7.840047642765943,\n        \"min\": 0.0,\n        \"max\": 186.6374793,\n        \"num_unique_values\": 4991,\n        \"samples\": [\n          1.699404762,\n          1.650943396,\n          6.805555556\n        ],\n        \"semantic_type\": \"\",\n        \"description\": \"\"\n      }\n    }\n  ]\n}"
            }
          },
          "metadata": {},
          "execution_count": 186
        }
      ],
      "source": [
        "X_train"
      ]
    },
    {
      "cell_type": "code",
      "execution_count": 187,
      "id": "921fc46e",
      "metadata": {
        "colab": {
          "base_uri": "https://localhost:8080/",
          "height": 74
        },
        "id": "921fc46e",
        "outputId": "66cb812a-1367-4df9-89f2-241d90b76d5f"
      },
      "outputs": [
        {
          "output_type": "execute_result",
          "data": {
            "text/plain": [
              "LinearRegression()"
            ],
            "text/html": [
              "<style>#sk-container-id-4 {color: black;background-color: white;}#sk-container-id-4 pre{padding: 0;}#sk-container-id-4 div.sk-toggleable {background-color: white;}#sk-container-id-4 label.sk-toggleable__label {cursor: pointer;display: block;width: 100%;margin-bottom: 0;padding: 0.3em;box-sizing: border-box;text-align: center;}#sk-container-id-4 label.sk-toggleable__label-arrow:before {content: \"▸\";float: left;margin-right: 0.25em;color: #696969;}#sk-container-id-4 label.sk-toggleable__label-arrow:hover:before {color: black;}#sk-container-id-4 div.sk-estimator:hover label.sk-toggleable__label-arrow:before {color: black;}#sk-container-id-4 div.sk-toggleable__content {max-height: 0;max-width: 0;overflow: hidden;text-align: left;background-color: #f0f8ff;}#sk-container-id-4 div.sk-toggleable__content pre {margin: 0.2em;color: black;border-radius: 0.25em;background-color: #f0f8ff;}#sk-container-id-4 input.sk-toggleable__control:checked~div.sk-toggleable__content {max-height: 200px;max-width: 100%;overflow: auto;}#sk-container-id-4 input.sk-toggleable__control:checked~label.sk-toggleable__label-arrow:before {content: \"▾\";}#sk-container-id-4 div.sk-estimator input.sk-toggleable__control:checked~label.sk-toggleable__label {background-color: #d4ebff;}#sk-container-id-4 div.sk-label input.sk-toggleable__control:checked~label.sk-toggleable__label {background-color: #d4ebff;}#sk-container-id-4 input.sk-hidden--visually {border: 0;clip: rect(1px 1px 1px 1px);clip: rect(1px, 1px, 1px, 1px);height: 1px;margin: -1px;overflow: hidden;padding: 0;position: absolute;width: 1px;}#sk-container-id-4 div.sk-estimator {font-family: monospace;background-color: #f0f8ff;border: 1px dotted black;border-radius: 0.25em;box-sizing: border-box;margin-bottom: 0.5em;}#sk-container-id-4 div.sk-estimator:hover {background-color: #d4ebff;}#sk-container-id-4 div.sk-parallel-item::after {content: \"\";width: 100%;border-bottom: 1px solid gray;flex-grow: 1;}#sk-container-id-4 div.sk-label:hover label.sk-toggleable__label {background-color: #d4ebff;}#sk-container-id-4 div.sk-serial::before {content: \"\";position: absolute;border-left: 1px solid gray;box-sizing: border-box;top: 0;bottom: 0;left: 50%;z-index: 0;}#sk-container-id-4 div.sk-serial {display: flex;flex-direction: column;align-items: center;background-color: white;padding-right: 0.2em;padding-left: 0.2em;position: relative;}#sk-container-id-4 div.sk-item {position: relative;z-index: 1;}#sk-container-id-4 div.sk-parallel {display: flex;align-items: stretch;justify-content: center;background-color: white;position: relative;}#sk-container-id-4 div.sk-item::before, #sk-container-id-4 div.sk-parallel-item::before {content: \"\";position: absolute;border-left: 1px solid gray;box-sizing: border-box;top: 0;bottom: 0;left: 50%;z-index: -1;}#sk-container-id-4 div.sk-parallel-item {display: flex;flex-direction: column;z-index: 1;position: relative;background-color: white;}#sk-container-id-4 div.sk-parallel-item:first-child::after {align-self: flex-end;width: 50%;}#sk-container-id-4 div.sk-parallel-item:last-child::after {align-self: flex-start;width: 50%;}#sk-container-id-4 div.sk-parallel-item:only-child::after {width: 0;}#sk-container-id-4 div.sk-dashed-wrapped {border: 1px dashed gray;margin: 0 0.4em 0.5em 0.4em;box-sizing: border-box;padding-bottom: 0.4em;background-color: white;}#sk-container-id-4 div.sk-label label {font-family: monospace;font-weight: bold;display: inline-block;line-height: 1.2em;}#sk-container-id-4 div.sk-label-container {text-align: center;}#sk-container-id-4 div.sk-container {/* jupyter's `normalize.less` sets `[hidden] { display: none; }` but bootstrap.min.css set `[hidden] { display: none !important; }` so we also need the `!important` here to be able to override the default hidden behavior on the sphinx rendered scikit-learn.org. See: https://github.com/scikit-learn/scikit-learn/issues/21755 */display: inline-block !important;position: relative;}#sk-container-id-4 div.sk-text-repr-fallback {display: none;}</style><div id=\"sk-container-id-4\" class=\"sk-top-container\"><div class=\"sk-text-repr-fallback\"><pre>LinearRegression()</pre><b>In a Jupyter environment, please rerun this cell to show the HTML representation or trust the notebook. <br />On GitHub, the HTML representation is unable to render, please try loading this page with nbviewer.org.</b></div><div class=\"sk-container\" hidden><div class=\"sk-item\"><div class=\"sk-estimator sk-toggleable\"><input class=\"sk-toggleable__control sk-hidden--visually\" id=\"sk-estimator-id-4\" type=\"checkbox\" checked><label for=\"sk-estimator-id-4\" class=\"sk-toggleable__label sk-toggleable__label-arrow\">LinearRegression</label><div class=\"sk-toggleable__content\"><pre>LinearRegression()</pre></div></div></div></div></div>"
            ]
          },
          "metadata": {},
          "execution_count": 187
        }
      ],
      "source": [
        "from sklearn.linear_model import LinearRegression\n",
        "lr = LinearRegression()\n",
        "lr.fit(X_train, Y_train)"
      ]
    },
    {
      "cell_type": "code",
      "execution_count": 188,
      "id": "6ad6d4a8",
      "metadata": {
        "colab": {
          "base_uri": "https://localhost:8080/"
        },
        "id": "6ad6d4a8",
        "outputId": "ec7037db-c214-4ed8-829a-6bf460ff7cad"
      },
      "outputs": [
        {
          "output_type": "execute_result",
          "data": {
            "text/plain": [
              "array([200.79190727,  59.84242751, 174.82282633, ...,  53.46059916,\n",
              "        35.56506361,  54.77068253])"
            ]
          },
          "metadata": {},
          "execution_count": 188
        }
      ],
      "source": [
        "lr.predict(X_test)\n",
        "Y_pred = lr.predict(X_test)\n",
        "Y_pred"
      ]
    },
    {
      "cell_type": "code",
      "execution_count": 189,
      "id": "35d49a46",
      "metadata": {
        "id": "35d49a46"
      },
      "outputs": [],
      "source": [
        "cutoff = 0.7\n",
        "y_pred_classes = np.zeros_like(Y_pred)\n",
        "y_pred_classes[Y_pred > cutoff] = 1\n",
        "y_test_classes = np.zeros_like(Y_pred)\n",
        "y_test_classes[Y_test > cutoff] = 1"
      ]
    },
    {
      "cell_type": "code",
      "execution_count": 190,
      "id": "07633f70",
      "metadata": {
        "scrolled": true,
        "colab": {
          "base_uri": "https://localhost:8080/"
        },
        "id": "07633f70",
        "outputId": "3627352a-81f8-435f-cbb0-63a069762c6d"
      },
      "outputs": [
        {
          "output_type": "stream",
          "name": "stdout",
          "text": [
            "Confusion Matrix : \n",
            " [[   0   78]\n",
            " [  26 2235]]\n"
          ]
        }
      ],
      "source": [
        "cm = confusion_matrix(y_test_classes, y_pred_classes)\n",
        "\n",
        "print (\"Confusion Matrix : \\n\", cm)"
      ]
    },
    {
      "cell_type": "code",
      "execution_count": 191,
      "id": "bfd395b4",
      "metadata": {
        "colab": {
          "base_uri": "https://localhost:8080/"
        },
        "id": "bfd395b4",
        "outputId": "5f9c9a04-6584-46aa-de3c-694ed5b3d193"
      },
      "outputs": [
        {
          "output_type": "stream",
          "name": "stdout",
          "text": [
            "Accuracy :  0.9555365540829415\n"
          ]
        }
      ],
      "source": [
        "from sklearn.metrics import accuracy_score\n",
        "print (\"Accuracy : \", accuracy_score(y_test_classes, y_pred_classes))"
      ]
    },
    {
      "cell_type": "markdown",
      "id": "ee1cd8e9",
      "metadata": {
        "id": "ee1cd8e9"
      },
      "source": [
        "# Comparison"
      ]
    },
    {
      "cell_type": "code",
      "execution_count": 192,
      "id": "27d9bfd1",
      "metadata": {
        "colab": {
          "base_uri": "https://localhost:8080/"
        },
        "id": "27d9bfd1",
        "outputId": "8602b75b-bd42-4552-b86f-91aca1c22975"
      },
      "outputs": [
        {
          "output_type": "stream",
          "name": "stdout",
          "text": [
            "Requirement already satisfied: datacompy in /usr/local/lib/python3.10/dist-packages (0.11.0)\n",
            "Requirement already satisfied: pandas<=2.2.0,>=0.25.0 in /usr/local/lib/python3.10/dist-packages (from datacompy) (1.5.3)\n",
            "Requirement already satisfied: numpy<=1.26.4,>=1.22.0 in /usr/local/lib/python3.10/dist-packages (from datacompy) (1.25.2)\n",
            "Requirement already satisfied: ordered-set<=4.1.0,>=4.0.2 in /usr/local/lib/python3.10/dist-packages (from datacompy) (4.1.0)\n",
            "Requirement already satisfied: fugue<=0.8.7,>=0.8.7 in /usr/local/lib/python3.10/dist-packages (from datacompy) (0.8.7)\n",
            "Requirement already satisfied: triad>=0.9.3 in /usr/local/lib/python3.10/dist-packages (from fugue<=0.8.7,>=0.8.7->datacompy) (0.9.5)\n",
            "Requirement already satisfied: adagio>=0.2.4 in /usr/local/lib/python3.10/dist-packages (from fugue<=0.8.7,>=0.8.7->datacompy) (0.2.4)\n",
            "Requirement already satisfied: qpd>=0.4.4 in /usr/local/lib/python3.10/dist-packages (from fugue<=0.8.7,>=0.8.7->datacompy) (0.4.4)\n",
            "Requirement already satisfied: fugue-sql-antlr>=0.1.6 in /usr/local/lib/python3.10/dist-packages (from fugue<=0.8.7,>=0.8.7->datacompy) (0.2.0)\n",
            "Requirement already satisfied: sqlglot in /usr/local/lib/python3.10/dist-packages (from fugue<=0.8.7,>=0.8.7->datacompy) (19.9.0)\n",
            "Requirement already satisfied: jinja2 in /usr/local/lib/python3.10/dist-packages (from fugue<=0.8.7,>=0.8.7->datacompy) (3.1.3)\n",
            "Requirement already satisfied: python-dateutil>=2.8.1 in /usr/local/lib/python3.10/dist-packages (from pandas<=2.2.0,>=0.25.0->datacompy) (2.8.2)\n",
            "Requirement already satisfied: pytz>=2020.1 in /usr/local/lib/python3.10/dist-packages (from pandas<=2.2.0,>=0.25.0->datacompy) (2023.4)\n",
            "Requirement already satisfied: antlr4-python3-runtime<4.12 in /usr/local/lib/python3.10/dist-packages (from fugue-sql-antlr>=0.1.6->fugue<=0.8.7,>=0.8.7->datacompy) (4.11.1)\n",
            "Requirement already satisfied: packaging in /usr/local/lib/python3.10/dist-packages (from fugue-sql-antlr>=0.1.6->fugue<=0.8.7,>=0.8.7->datacompy) (23.2)\n",
            "Requirement already satisfied: six>=1.5 in /usr/local/lib/python3.10/dist-packages (from python-dateutil>=2.8.1->pandas<=2.2.0,>=0.25.0->datacompy) (1.16.0)\n",
            "Requirement already satisfied: pyarrow>=6.0.1 in /usr/local/lib/python3.10/dist-packages (from triad>=0.9.3->fugue<=0.8.7,>=0.8.7->datacompy) (14.0.2)\n",
            "Requirement already satisfied: fsspec>=2022.5.0 in /usr/local/lib/python3.10/dist-packages (from triad>=0.9.3->fugue<=0.8.7,>=0.8.7->datacompy) (2023.6.0)\n",
            "Requirement already satisfied: fs in /usr/local/lib/python3.10/dist-packages (from triad>=0.9.3->fugue<=0.8.7,>=0.8.7->datacompy) (2.4.16)\n",
            "Requirement already satisfied: MarkupSafe>=2.0 in /usr/local/lib/python3.10/dist-packages (from jinja2->fugue<=0.8.7,>=0.8.7->datacompy) (2.1.5)\n",
            "Requirement already satisfied: appdirs~=1.4.3 in /usr/local/lib/python3.10/dist-packages (from fs->triad>=0.9.3->fugue<=0.8.7,>=0.8.7->datacompy) (1.4.4)\n",
            "Requirement already satisfied: setuptools in /usr/local/lib/python3.10/dist-packages (from fs->triad>=0.9.3->fugue<=0.8.7,>=0.8.7->datacompy) (67.7.2)\n"
          ]
        }
      ],
      "source": [
        "!pip install datacompy\n",
        "import datacompy"
      ]
    },
    {
      "cell_type": "code",
      "execution_count": 193,
      "id": "8934cb16",
      "metadata": {
        "id": "8934cb16"
      },
      "outputs": [],
      "source": [
        "compare = datacompy.Compare(df,dm,join_columns='mentions')"
      ]
    },
    {
      "cell_type": "code",
      "execution_count": 194,
      "id": "3d2a70cc",
      "metadata": {
        "scrolled": false,
        "colab": {
          "base_uri": "https://localhost:8080/"
        },
        "id": "3d2a70cc",
        "outputId": "ca2e685f-db00-4d83-93d4-a425eee78b9b"
      },
      "outputs": [
        {
          "output_type": "stream",
          "name": "stdout",
          "text": [
            "DataComPy Comparison\n",
            "--------------------\n",
            "\n",
            "DataFrame Summary\n",
            "-----------------\n",
            "\n",
            "  DataFrame  Columns  Rows\n",
            "0       df1        4  5048\n",
            "1       df2        4  9353\n",
            "\n",
            "Column Summary\n",
            "--------------\n",
            "\n",
            "Number of columns in common: 4\n",
            "Number of columns in df1 but not in df2: 0\n",
            "Number of columns in df2 but not in df1: 0\n",
            "\n",
            "Row Summary\n",
            "-----------\n",
            "\n",
            "Matched on: mentions\n",
            "Any duplicates on match values: Yes\n",
            "Absolute Tolerance: 0\n",
            "Relative Tolerance: 0\n",
            "Number of rows in common: 5,021\n",
            "Number of rows in df1 but not in df2: 27\n",
            "Number of rows in df2 but not in df1: 4,332\n",
            "\n",
            "Number of rows with some compared columns unequal: 4,991\n",
            "Number of rows with all compared columns equal: 30\n",
            "\n",
            "Column Comparison\n",
            "-----------------\n",
            "\n",
            "Number of columns compared with some values unequal: 3\n",
            "Number of columns compared with all values equal: 1\n",
            "Total number of values which compare unequal: 14,709\n",
            "\n",
            "Columns with Unequal Values or Types\n",
            "------------------------------------\n",
            "\n",
            "               Column df1 dtype df2 dtype  # Unequal       Max Diff  # Null Diff\n",
            "2  average centrality   float64   float64       4897    1561.224133            0\n",
            "1               count   float64   float64       4920    1022.000000            0\n",
            "0    total centrality   float64   float64       4892  260650.111400            0\n",
            "\n",
            "Sample Rows with Unequal Values\n",
            "-------------------------------\n",
            "\n",
            "   mentions  total centrality (df1)  total centrality (df2)\n",
            "0       1.0                0.000000               24.000000\n",
            "1       1.0               42.000000               49.000000\n",
            "2       4.0               22.000000              280.666667\n",
            "3       2.0               76.000000                0.000000\n",
            "4       1.0               55.000000              216.000000\n",
            "5       1.0               15.000000              269.333333\n",
            "6       0.0                4.000000               90.000000\n",
            "7       2.0             2530.966667                0.000000\n",
            "8      12.0              171.333333              127.333333\n",
            "9       1.0                0.000000               29.000000\n",
            "\n",
            "   mentions  count (df1)  count (df2)\n",
            "0       3.0         28.0         40.0\n",
            "1       0.0         77.0         43.0\n",
            "2       1.0         18.0         19.0\n",
            "3       1.0         14.0         19.0\n",
            "4       4.0         21.0         36.0\n",
            "5       3.0         17.0         51.0\n",
            "6       0.0          0.0        169.0\n",
            "7      40.0        361.0        362.0\n",
            "8       4.0         35.0         25.0\n",
            "9       2.0          6.0          9.0\n",
            "\n",
            "   mentions  average centrality (df1)  average centrality (df2)\n",
            "0       2.0                  0.105263                  0.000000\n",
            "1       1.0                  6.717949                 22.416667\n",
            "2       3.0                  3.058824                 25.656831\n",
            "3      13.0                  3.337681                  1.048689\n",
            "4       1.0                  4.478261                  9.062500\n",
            "5       0.0                  5.254296                  2.459336\n",
            "6       1.0                  5.100000                  3.692308\n",
            "7       1.0                  4.218750                  2.000000\n",
            "8       0.0                  7.327236                  0.000000\n",
            "9      47.0                  8.845246                  4.141382\n",
            "\n",
            "Sample Rows Only in df1 (First 10 Columns)\n",
            "------------------------------------------\n",
            "\n",
            "   mentions  total centrality  count  average centrality\n",
            "0      65.0       1752.166667  490.0            3.575850\n",
            "1      37.0        567.000000  339.0            1.672566\n",
            "2      52.0        724.950000  381.0            1.902756\n",
            "3      53.0        753.000000  334.0            2.254491\n",
            "4     128.0       6687.583333  870.0            7.686877\n",
            "5      67.0       7380.166667  631.0           11.695985\n",
            "6      53.0       5787.333333  343.0           16.872692\n",
            "7      66.0       1204.900000  515.0            2.339612\n",
            "8      50.0       2619.866667  434.0            6.036559\n",
            "9      82.0       2173.166667  770.0            2.822294\n",
            "\n",
            "Sample Rows Only in df2 (First 10 Columns)\n",
            "------------------------------------------\n",
            "\n",
            "   mentions  total centrality  count  average centrality\n",
            "0       6.0        107.666667   66.0            1.631313\n",
            "1       2.0         90.400000   15.0            6.026667\n",
            "2       1.0         77.500000   15.0            5.166667\n",
            "3       6.0        751.000000   69.0           10.884058\n",
            "4       2.0         75.000000   11.0            6.818182\n",
            "5       8.0         56.000000   62.0            0.903226\n",
            "6      10.0        190.166667   97.0            1.960481\n",
            "7       0.0        114.000000   19.0            6.000000\n",
            "8       8.0        593.333333   63.0            9.417989\n",
            "9       0.0         45.000000   59.0            0.762712\n",
            "\n",
            "\n"
          ]
        }
      ],
      "source": [
        "print(compare.report())"
      ]
    },
    {
      "cell_type": "markdown",
      "id": "e7770831",
      "metadata": {
        "id": "e7770831"
      },
      "source": [
        "# input\n"
      ]
    },
    {
      "cell_type": "code",
      "execution_count": 205,
      "id": "f401c85a",
      "metadata": {
        "colab": {
          "base_uri": "https://localhost:8080/"
        },
        "id": "f401c85a",
        "outputId": "50847c46-45a0-4917-c11d-59f74ec58b10"
      },
      "outputs": [
        {
          "name": "stdout",
          "output_type": "stream",
          "text": [
            "enter the mentions 13.0\n",
            "enter the total centrality 9219.200000\n",
            "enter the average centrality 70.375573\n"
          ]
        }
      ],
      "source": [
        "mention1=float(input(\"enter the mentions \"))\n",
        "tolcenter=float(input(\"enter the total centrality \"))\n",
        "avg=float(input(\"enter the average centrality \"))"
      ]
    },
    {
      "cell_type": "code",
      "execution_count": 206,
      "id": "b04a68b3",
      "metadata": {
        "id": "b04a68b3"
      },
      "outputs": [],
      "source": [
        "features = np.array([[mention1,tolcenter,avg]])"
      ]
    },
    {
      "cell_type": "markdown",
      "id": "e388b27e",
      "metadata": {
        "id": "e388b27e"
      },
      "source": [
        "# output\n"
      ]
    },
    {
      "cell_type": "code",
      "execution_count": 207,
      "id": "e1ba39f9",
      "metadata": {
        "colab": {
          "base_uri": "https://localhost:8080/"
        },
        "id": "e1ba39f9",
        "outputId": "f747e50f-840c-4f6e-ba4b-3ab685ecebcd"
      },
      "outputs": [
        {
          "output_type": "stream",
          "name": "stdout",
          "text": [
            "[216.19072062]\n"
          ]
        },
        {
          "output_type": "stream",
          "name": "stderr",
          "text": [
            "/usr/local/lib/python3.10/dist-packages/sklearn/base.py:439: UserWarning: X does not have valid feature names, but LinearRegression was fitted with feature names\n",
            "  warnings.warn(\n"
          ]
        }
      ],
      "source": [
        "Y_pred = lr.predict(features)\n",
        "Y_pred =[Y_pred][0]\n",
        "print(Y_pred)"
      ]
    },
    {
      "cell_type": "code",
      "execution_count": null,
      "id": "c1441ab2",
      "metadata": {
        "id": "c1441ab2"
      },
      "outputs": [],
      "source": []
    }
  ],
  "metadata": {
    "kernelspec": {
      "display_name": "Python 3 (ipykernel)",
      "language": "python",
      "name": "python3"
    },
    "language_info": {
      "codemirror_mode": {
        "name": "ipython",
        "version": 3
      },
      "file_extension": ".py",
      "mimetype": "text/x-python",
      "name": "python",
      "nbconvert_exporter": "python",
      "pygments_lexer": "ipython3",
      "version": "3.9.12"
    },
    "colab": {
      "provenance": []
    }
  },
  "nbformat": 4,
  "nbformat_minor": 5
}